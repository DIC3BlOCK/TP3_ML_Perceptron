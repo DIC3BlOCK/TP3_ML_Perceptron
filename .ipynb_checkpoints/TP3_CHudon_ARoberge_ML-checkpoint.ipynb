{
 "cells": [
  {
   "cell_type": "markdown",
   "metadata": {
    "collapsed": true,
    "pycharm": {
     "name": "#%% md\n"
    }
   },
   "source": [
    "##### 8IAR403 - Apprentissage machine pour la science des données\n",
    "##### -> Christian Hudon - HUDC04076909\n",
    "##### -> Alex Roberge - ROBA19129504\n",
    "##### Date de remise: 05 avril 2021"
   ]
  },
  {
   "cell_type": "markdown",
   "metadata": {
    "pycharm": {
     "name": "#%% md\n"
    }
   },
   "source": [
    "# Devoir #3, perceptron"
   ]
  },
  {
   "cell_type": "code",
   "execution_count": 1,
   "metadata": {
    "pycharm": {
     "name": "#%%\n"
    }
   },
   "outputs": [],
   "source": [
    "\"\"\"Importation du fichier de fonction:\"\"\"\n",
    "from Functions import *\n",
    "\n",
    "# pour la génération de seed\n",
    "np.random.seed(52)"
   ]
  },
  {
   "cell_type": "markdown",
   "metadata": {
    "pycharm": {
     "name": "#%% md\n"
    }
   },
   "source": [
    "# 2.1, entraînement d'un classeur binaire.\n",
    "Commençons par créer un ensemble de données aléatoires."
   ]
  },
  {
   "cell_type": "code",
   "execution_count": 2,
   "metadata": {
    "pycharm": {
     "name": "#%%\n"
    }
   },
   "outputs": [],
   "source": [
    "x = np.array([[0,0], [0,1], [1,0], [1,1]])\n",
    "y = np.array([0,1,1,0])"
   ]
  },
  {
   "cell_type": "markdown",
   "metadata": {
    "pycharm": {
     "name": "#%% md\n"
    }
   },
   "source": [
    "## 2.1.1 -> Utilisation d'aucune couche cachée (un perceptron)."
   ]
  },
  {
   "cell_type": "code",
   "execution_count": 3,
   "metadata": {
    "pycharm": {
     "name": "#%%\n"
    }
   },
   "outputs": [
    {
     "name": "stderr",
     "output_type": "stream",
     "text": [
      "*c* argument looks like a single numeric RGB or RGBA sequence, which should be avoided as value-mapping will have precedence in case its length matches with *x* & *y*.  Please use the *color* keyword-argument or provide a 2-D array with a single row if you intend to specify the same RGB or RGBA value for all points.\n",
      "*c* argument looks like a single numeric RGB or RGBA sequence, which should be avoided as value-mapping will have precedence in case its length matches with *x* & *y*.  Please use the *color* keyword-argument or provide a 2-D array with a single row if you intend to specify the same RGB or RGBA value for all points.\n"
     ]
    },
    {
     "name": "stdout",
     "output_type": "stream",
     "text": [
      "Résultat:\t 0.25\n"
     ]
    },
    {
     "data": {
      "image/png": "[encoded data removed]",
      "text/plain": [
       "<Figure size 432x288 with 1 Axes>"
      ]
     },
     "metadata": {
      "needs_background": "light"
     },
     "output_type": "display_data"
    }
   ],
   "source": [
    "clf = MLPClassifier(hidden_layer_sizes=(), activation='identity', solver='sgd', max_iter=3000, random_state=1)\n",
    "\n",
    "clf.fit(x,y)\n",
    "\n",
    "y_pred = clf.predict(x)\n",
    "acc = accuracy_score(y, y_pred)\n",
    "print(\"Résultat:\\t\", acc)\n",
    "del y_pred, acc\n",
    "\n",
    "plot_decision_regions(x, y, clf)\n",
    "plt.xlabel('x-axis')\n",
    "plt.ylabel('y-axis')\n",
    "plt.legend(loc='upper left')\n",
    "plt.tight_layout()\n",
    "plt.show()\n",
    "plt.close()\n",
    "\n",
    "del clf"
   ]
  },
  {
   "cell_type": "markdown",
   "metadata": {
    "pycharm": {
     "name": "#%% md\n"
    }
   },
   "source": [
    "## 2.1.2 -> Deux couches cachées avec le paramètre d'activation identité (linéaire)."
   ]
  },
  {
   "cell_type": "code",
   "execution_count": 4,
   "metadata": {
    "pycharm": {
     "name": "#%%\n"
    }
   },
   "outputs": [
    {
     "name": "stderr",
     "output_type": "stream",
     "text": [
      "*c* argument looks like a single numeric RGB or RGBA sequence, which should be avoided as value-mapping will have precedence in case its length matches with *x* & *y*.  Please use the *color* keyword-argument or provide a 2-D array with a single row if you intend to specify the same RGB or RGBA value for all points.\n",
      "*c* argument looks like a single numeric RGB or RGBA sequence, which should be avoided as value-mapping will have precedence in case its length matches with *x* & *y*.  Please use the *color* keyword-argument or provide a 2-D array with a single row if you intend to specify the same RGB or RGBA value for all points.\n"
     ]
    },
    {
     "name": "stdout",
     "output_type": "stream",
     "text": [
      "Résultat sgd:\t 0.5\n",
      "Résultat lbfgs:\t 0.75\n"
     ]
    },
    {
     "data": {
      "image/png": "[encoded data removed]",
      "text/plain": [
       "<Figure size 432x288 with 1 Axes>"
      ]
     },
     "metadata": {
      "needs_background": "light"
     },
     "output_type": "display_data"
    },
    {
     "name": "stderr",
     "output_type": "stream",
     "text": [
      "*c* argument looks like a single numeric RGB or RGBA sequence, which should be avoided as value-mapping will have precedence in case its length matches with *x* & *y*.  Please use the *color* keyword-argument or provide a 2-D array with a single row if you intend to specify the same RGB or RGBA value for all points.\n",
      "*c* argument looks like a single numeric RGB or RGBA sequence, which should be avoided as value-mapping will have precedence in case its length matches with *x* & *y*.  Please use the *color* keyword-argument or provide a 2-D array with a single row if you intend to specify the same RGB or RGBA value for all points.\n"
     ]
    },
    {
     "data": {
      "image/png": "[encoded data removed]",
      "text/plain": [
       "<Figure size 432x288 with 1 Axes>"
      ]
     },
     "metadata": {
      "needs_background": "light"
     },
     "output_type": "display_data"
    }
   ],
   "source": [
    "#Le nombre de neurone est par essaie/erreur. On laisse le meilleur nombre dans le notebook.\n",
    "clf = MLPClassifier(hidden_layer_sizes=(100,50), activation='identity', solver='sgd', max_iter=3000, random_state=1)\n",
    "clf_lbfgs = MLPClassifier(hidden_layer_sizes=(100,50), activation='identity', solver='lbfgs', max_iter=3000, random_state=1)\n",
    "\n",
    "clf.fit(x,y)\n",
    "clf_lbfgs.fit(x,y)\n",
    "\n",
    "y_pred = clf.predict(x)\n",
    "acc = accuracy_score(y, y_pred)\n",
    "print(\"Résultat sgd:\\t\", acc)\n",
    "del y_pred, acc\n",
    "\n",
    "y_pred = clf_lbfgs.predict(x)\n",
    "acc = accuracy_score(y, y_pred)\n",
    "print(\"Résultat lbfgs:\\t\", acc)\n",
    "del y_pred, acc\n",
    "\n",
    "plot_decision_regions(x, y, clf)\n",
    "plt.xlabel('x-axis')\n",
    "plt.ylabel('y-axis')\n",
    "plt.legend(loc='upper left')\n",
    "plt.tight_layout()\n",
    "plt.show()\n",
    "plt.close()\n",
    "del clf\n",
    "\n",
    "plot_decision_regions(x, y, clf_lbfgs)\n",
    "plt.xlabel('x-axis')\n",
    "plt.ylabel('y-axis')\n",
    "plt.legend(loc='upper left')\n",
    "plt.tight_layout()\n",
    "plt.show()\n",
    "plt.close()\n",
    "del clf_lbfgs"
   ]
  },
  {
   "cell_type": "markdown",
   "metadata": {
    "pycharm": {
     "name": "#%% md\n"
    }
   },
   "source": [
    "## 2.1.3 -> Deux couches cachées, mais activation NON-LINÉAIRE"
   ]
  },
  {
   "cell_type": "code",
   "execution_count": 5,
   "metadata": {
    "pycharm": {
     "name": "#%%\n"
    }
   },
   "outputs": [
    {
     "name": "stderr",
     "output_type": "stream",
     "text": [
      "*c* argument looks like a single numeric RGB or RGBA sequence, which should be avoided as value-mapping will have precedence in case its length matches with *x* & *y*.  Please use the *color* keyword-argument or provide a 2-D array with a single row if you intend to specify the same RGB or RGBA value for all points.\n",
      "*c* argument looks like a single numeric RGB or RGBA sequence, which should be avoided as value-mapping will have precedence in case its length matches with *x* & *y*.  Please use the *color* keyword-argument or provide a 2-D array with a single row if you intend to specify the same RGB or RGBA value for all points.\n"
     ]
    },
    {
     "name": "stdout",
     "output_type": "stream",
     "text": [
      "Résultat du solver sgd avec activation tanh:\t 0.5\n",
      "Résultat du solver lbfgs avec activation tanh:\t 1.0\n",
      "Résultat du solver adam avec activation tanh:\t 1.0\n",
      "Résultat du solver adam avec activation relu:\t 1.0\n"
     ]
    },
    {
     "data": {
      "image/png": "[encoded data removed]",
      "text/plain": [
       "<Figure size 432x288 with 1 Axes>"
      ]
     },
     "metadata": {
      "needs_background": "light"
     },
     "output_type": "display_data"
    },
    {
     "name": "stderr",
     "output_type": "stream",
     "text": [
      "*c* argument looks like a single numeric RGB or RGBA sequence, which should be avoided as value-mapping will have precedence in case its length matches with *x* & *y*.  Please use the *color* keyword-argument or provide a 2-D array with a single row if you intend to specify the same RGB or RGBA value for all points.\n",
      "*c* argument looks like a single numeric RGB or RGBA sequence, which should be avoided as value-mapping will have precedence in case its length matches with *x* & *y*.  Please use the *color* keyword-argument or provide a 2-D array with a single row if you intend to specify the same RGB or RGBA value for all points.\n"
     ]
    },
    {
     "data": {
      "image/png": "[encoded data removed]",
      "text/plain": [
       "<Figure size 432x288 with 1 Axes>"
      ]
     },
     "metadata": {
      "needs_background": "light"
     },
     "output_type": "display_data"
    },
    {
     "name": "stderr",
     "output_type": "stream",
     "text": [
      "*c* argument looks like a single numeric RGB or RGBA sequence, which should be avoided as value-mapping will have precedence in case its length matches with *x* & *y*.  Please use the *color* keyword-argument or provide a 2-D array with a single row if you intend to specify the same RGB or RGBA value for all points.\n",
      "*c* argument looks like a single numeric RGB or RGBA sequence, which should be avoided as value-mapping will have precedence in case its length matches with *x* & *y*.  Please use the *color* keyword-argument or provide a 2-D array with a single row if you intend to specify the same RGB or RGBA value for all points.\n"
     ]
    },
    {
     "data": {
      "image/png": "[encoded data removed]",
      "text/plain": [
       "<Figure size 432x288 with 1 Axes>"
      ]
     },
     "metadata": {
      "needs_background": "light"
     },
     "output_type": "display_data"
    },
    {
     "name": "stderr",
     "output_type": "stream",
     "text": [
      "*c* argument looks like a single numeric RGB or RGBA sequence, which should be avoided as value-mapping will have precedence in case its length matches with *x* & *y*.  Please use the *color* keyword-argument or provide a 2-D array with a single row if you intend to specify the same RGB or RGBA value for all points.\n",
      "*c* argument looks like a single numeric RGB or RGBA sequence, which should be avoided as value-mapping will have precedence in case its length matches with *x* & *y*.  Please use the *color* keyword-argument or provide a 2-D array with a single row if you intend to specify the same RGB or RGBA value for all points.\n"
     ]
    },
    {
     "data": {
      "image/png": "[encoded data removed]",
      "text/plain": [
       "<Figure size 432x288 with 1 Axes>"
      ]
     },
     "metadata": {
      "needs_background": "light"
     },
     "output_type": "display_data"
    }
   ],
   "source": [
    "#Le nombre de neurone est par essaie/erreur. On laisse le meilleur nombre dans le notebook.\n",
    "clf = MLPClassifier(hidden_layer_sizes=(100,50), alpha=0.001, activation='tanh', solver='sgd', max_iter=3000, random_state=1)\n",
    "clf_lbfgs = MLPClassifier(hidden_layer_sizes=(100,50), activation='tanh', solver='lbfgs', max_iter=3000, random_state=1)\n",
    "clf_adam = MLPClassifier(hidden_layer_sizes=(100,50), activation='tanh', solver='adam', max_iter=3000, random_state=1)\n",
    "\n",
    "#bonus\n",
    "clf_test = MLPClassifier(hidden_layer_sizes=(100,50), activation='relu', solver='adam', max_iter=3000, random_state=1)\n",
    "\n",
    "clf.fit(x,y)\n",
    "clf_lbfgs.fit(x,y)\n",
    "clf_adam.fit(x,y)\n",
    "clf_test.fit(x,y)\n",
    "\n",
    "y_pred = clf.predict(x)\n",
    "acc = accuracy_score(y, y_pred)\n",
    "print(\"Résultat du solver sgd avec activation tanh:\\t\", acc)\n",
    "del y_pred, acc\n",
    "\n",
    "y_pred = clf_lbfgs.predict(x)\n",
    "acc = accuracy_score(y, y_pred)\n",
    "print(\"Résultat du solver lbfgs avec activation tanh:\\t\", acc)\n",
    "del y_pred, acc\n",
    "\n",
    "y_pred = clf_adam.predict(x)\n",
    "acc = accuracy_score(y, y_pred)\n",
    "print(\"Résultat du solver adam avec activation tanh:\\t\", acc)\n",
    "del y_pred, acc\n",
    "\n",
    "#Bonus\n",
    "y_pred = clf_test.predict(x)\n",
    "acc = accuracy_score(y, y_pred)\n",
    "print(\"Résultat du solver adam avec activation relu:\\t\", acc)\n",
    "del y_pred, acc\n",
    "\n",
    "plot_decision_regions(x, y, clf)\n",
    "plt.xlabel('x-axis')\n",
    "plt.ylabel('y-axis')\n",
    "plt.legend(loc='upper left')\n",
    "plt.title(\"solver sgd avec activation tanh\")\n",
    "plt.tight_layout()\n",
    "plt.show()\n",
    "plt.close()\n",
    "del clf\n",
    "\n",
    "plot_decision_regions(x, y, clf_lbfgs)\n",
    "plt.xlabel('x-axis')\n",
    "plt.ylabel('y-axis')\n",
    "plt.legend(loc='upper left')\n",
    "plt.title(\"solver lbfgs avec activation tanh\")\n",
    "plt.tight_layout()\n",
    "plt.show()\n",
    "plt.close()\n",
    "del clf_lbfgs\n",
    "\n",
    "plot_decision_regions(x, y, clf_adam)\n",
    "plt.xlabel('x-axis')\n",
    "plt.ylabel('y-axis')\n",
    "plt.legend(loc='upper left')\n",
    "plt.title(\"solver adam avec activation tanh\")\n",
    "plt.tight_layout()\n",
    "plt.show()\n",
    "plt.close()\n",
    "del clf_adam\n",
    "\n",
    "#Bonus\n",
    "plot_decision_regions(x, y, clf_test)\n",
    "plt.xlabel('x-axis')\n",
    "plt.ylabel('y-axis')\n",
    "plt.legend(loc='upper left')\n",
    "plt.title(\"Activation relu et avec un solver adam\")\n",
    "plt.tight_layout()\n",
    "plt.show()\n",
    "plt.close()\n",
    "del clf_test"
   ]
  },
  {
   "cell_type": "markdown",
   "metadata": {
    "pycharm": {
     "name": "#%% md\n"
    }
   },
   "source": [
    "## Interprétation des résultats de la partie 2.\n",
    "\n",
    "En premier lieu, il est possible de remarquer que la classification sans couche cachée (linéaire) éprouve beaucoup\n",
    "de difficulté à classifier le XOR. À l'aide de la visualisation, il est possible de voir qu'une seule ligne ne peut pas\n",
    "encadrer et classifier les points avec certitude. Les 'solvers' lbfgs et adam ont également été essayé, mais toujours\n",
    "sans succès.\n",
    "\n",
    "Ensuite, la fonction linéaire d'activation d'identité n'est pas plus capable de classifier un problème XOR, malgré\n",
    "plusieurs couches (3 couches ont été testées et ce n'est pas mieux que 2) et différents 'solvers'. Cela s'explique du\n",
    "fait que la méthode identité utilise la fonction f(x) = x. étant donné sa linéarité, il en revient au même qu'à la\n",
    "première étape, soit disant une fonction linéaire.\n",
    "\n",
    "Au final, plusieurs fonctions d'activations linéaires ont été testées. Il est intéressant de noter, que dans le premier\n",
    "cas de la section 2.1.3, un 'solver' sgd a été utilisé. Celui-ci n'a par contre pas réussi à classifier réellement le XOR\n",
    "lorsque combiné avec une activation 'tanh' comparé aux autres. Cependant, si l'on combine avec une activation 'relu'\n",
    "(non effectué plus haut), cela fonctionne bien. On voit donc qu'il peut exister plusieurs combinaisons possibles, d'où\n",
    "l'intérêt d'effectuer un grid search (nous verrons plus loin dans la section 3). Par ailleurs, les autres combinaisons de\n",
    "poids semblent bien s'effectuer, mais visuellement (voir bonus), on constate qu'un solveur 'adam' et une activation 'relu'\n",
    "semblent bien épurer le problème emmené. Vous pourrez vous amuser avec le 'random-state'. Le fait est que peut importe\n",
    "celui-ci, la dernière interprétation semble vraiment catégoriser les données en deux parts égales."
   ]
  },
  {
   "cell_type": "markdown",
   "metadata": {
    "pycharm": {
     "name": "#%% md\n"
    }
   },
   "source": [
    "# Partie 2.2, entraînement d'un classeur binaire pour la vente en ligne"
   ]
  },
  {
   "cell_type": "markdown",
   "metadata": {
    "pycharm": {
     "name": "#%% md\n"
    }
   },
   "source": [
    "### 2.2.1, 2.2.2, 2.2.3. Échantillonage aléatoire stratifié, validation croisée et mesures de précision."
   ]
  },
  {
   "cell_type": "code",
   "execution_count": 6,
   "metadata": {
    "pycharm": {
     "name": "#%%\n"
    }
   },
   "outputs": [],
   "source": [
    "\"\"\"Importations des datasets ici\"\"\"\n",
    "trainGdp, testGdp = train_test_split(pd.read_csv(\"customers_bin_sans_gdp.csv\"), test_size=0.2, random_state=42)\n",
    "trainNoGdp, testNoGdp = train_test_split(pd.read_csv(\"customers_bin_sans_gdp.csv\"), test_size=0.2, random_state=42)\n",
    "trainRaw, testRaw = train_test_split(pd.read_csv(\"customers_raw.csv\").copy(), test_size=0.2, random_state=42)\n",
    "\n",
    "trainGdp.name = \"trainGdp\"\n",
    "testGdp.name = \"testGdp\"\n",
    "trainNoGdp.name = \"trainNoGdp\"\n",
    "testNoGdp.name = \"testNoGdp\"\n",
    "trainRaw.name = \"trainRaw\"\n",
    "testRaw.name = \"testRaw\"\n",
    "\n",
    "#print(trainGdp.info(), testGdp.info())\n",
    "#print(trainNoGdp.info(), testNoGdp.info())\n",
    "#print(trainRaw.info(), testRaw.info())"
   ]
  },
  {
   "cell_type": "code",
   "execution_count": 7,
   "metadata": {
    "pycharm": {
     "name": "#%%\n"
    }
   },
   "outputs": [],
   "source": [
    "mlp = MLPClassifier()"
   ]
  },
  {
   "cell_type": "code",
   "execution_count": 8,
   "metadata": {
    "pycharm": {
     "name": "#%%\n"
    }
   },
   "outputs": [
    {
     "name": "stdout",
     "output_type": "stream",
     "text": [
      "--Pour 4000 échantillons avec le dataset trainGdp  et un cv de  3 --\n",
      "              precision    recall  f1-score   support\n",
      "\n",
      "         0.0       0.50      0.67      0.57      1986\n",
      "         1.0       0.50      0.33      0.40      2014\n",
      "\n",
      "    accuracy                           0.50      4000\n",
      "   macro avg       0.50      0.50      0.49      4000\n",
      "weighted avg       0.50      0.50      0.48      4000\n",
      "\n",
      "--Pour 4000 échantillons avec le dataset trainNoGdp  et un cv de  3 --\n",
      "              precision    recall  f1-score   support\n",
      "\n",
      "         0.0       0.50      0.33      0.40      1986\n",
      "         1.0       0.50      0.67      0.57      2014\n",
      "\n",
      "    accuracy                           0.50      4000\n",
      "   macro avg       0.50      0.50      0.49      4000\n",
      "weighted avg       0.50      0.50      0.49      4000\n",
      "\n",
      "--Pour 4000 échantillons avec le dataset trainRaw  et un cv de  3 --\n"
     ]
    },
    {
     "name": "stderr",
     "output_type": "stream",
     "text": [
      "C:\\Users\\robeg\\anaconda3\\lib\\site-packages\\sklearn\\neural_network\\_multilayer_perceptron.py:614: ConvergenceWarning: Stochastic Optimizer: Maximum iterations (200) reached and the optimization hasn't converged yet.\n",
      "  warnings.warn(\n",
      "C:\\Users\\robeg\\anaconda3\\lib\\site-packages\\sklearn\\neural_network\\_multilayer_perceptron.py:614: ConvergenceWarning: Stochastic Optimizer: Maximum iterations (200) reached and the optimization hasn't converged yet.\n",
      "  warnings.warn(\n",
      "C:\\Users\\robeg\\anaconda3\\lib\\site-packages\\sklearn\\neural_network\\_multilayer_perceptron.py:614: ConvergenceWarning: Stochastic Optimizer: Maximum iterations (200) reached and the optimization hasn't converged yet.\n",
      "  warnings.warn(\n"
     ]
    },
    {
     "name": "stdout",
     "output_type": "stream",
     "text": [
      "              precision    recall  f1-score   support\n",
      "\n",
      "         0.0       0.82      0.80      0.81      1986\n",
      "         1.0       0.81      0.83      0.82      2014\n",
      "\n",
      "    accuracy                           0.81      4000\n",
      "   macro avg       0.82      0.81      0.81      4000\n",
      "weighted avg       0.82      0.81      0.81      4000\n",
      "\n",
      "--Pour 4000 échantillons avec le dataset trainGdp  et un cv de  10 --\n",
      "              precision    recall  f1-score   support\n",
      "\n",
      "         0.0       0.50      0.70      0.58      1986\n",
      "         1.0       0.50      0.30      0.38      2014\n",
      "\n",
      "    accuracy                           0.50      4000\n",
      "   macro avg       0.50      0.50      0.48      4000\n",
      "weighted avg       0.50      0.50      0.48      4000\n",
      "\n",
      "--Pour 4000 échantillons avec le dataset trainNoGdp  et un cv de  10 --\n",
      "              precision    recall  f1-score   support\n",
      "\n",
      "         0.0       0.50      0.40      0.44      1986\n",
      "         1.0       0.50      0.60      0.55      2014\n",
      "\n",
      "    accuracy                           0.50      4000\n",
      "   macro avg       0.50      0.50      0.50      4000\n",
      "weighted avg       0.50      0.50      0.50      4000\n",
      "\n",
      "--Pour 4000 échantillons avec le dataset trainRaw  et un cv de  10 --\n"
     ]
    },
    {
     "name": "stderr",
     "output_type": "stream",
     "text": [
      "C:\\Users\\robeg\\anaconda3\\lib\\site-packages\\sklearn\\neural_network\\_multilayer_perceptron.py:614: ConvergenceWarning: Stochastic Optimizer: Maximum iterations (200) reached and the optimization hasn't converged yet.\n",
      "  warnings.warn(\n",
      "C:\\Users\\robeg\\anaconda3\\lib\\site-packages\\sklearn\\neural_network\\_multilayer_perceptron.py:614: ConvergenceWarning: Stochastic Optimizer: Maximum iterations (200) reached and the optimization hasn't converged yet.\n",
      "  warnings.warn(\n",
      "C:\\Users\\robeg\\anaconda3\\lib\\site-packages\\sklearn\\neural_network\\_multilayer_perceptron.py:614: ConvergenceWarning: Stochastic Optimizer: Maximum iterations (200) reached and the optimization hasn't converged yet.\n",
      "  warnings.warn(\n",
      "C:\\Users\\robeg\\anaconda3\\lib\\site-packages\\sklearn\\neural_network\\_multilayer_perceptron.py:614: ConvergenceWarning: Stochastic Optimizer: Maximum iterations (200) reached and the optimization hasn't converged yet.\n",
      "  warnings.warn(\n",
      "C:\\Users\\robeg\\anaconda3\\lib\\site-packages\\sklearn\\neural_network\\_multilayer_perceptron.py:614: ConvergenceWarning: Stochastic Optimizer: Maximum iterations (200) reached and the optimization hasn't converged yet.\n",
      "  warnings.warn(\n",
      "C:\\Users\\robeg\\anaconda3\\lib\\site-packages\\sklearn\\neural_network\\_multilayer_perceptron.py:614: ConvergenceWarning: Stochastic Optimizer: Maximum iterations (200) reached and the optimization hasn't converged yet.\n",
      "  warnings.warn(\n",
      "C:\\Users\\robeg\\anaconda3\\lib\\site-packages\\sklearn\\neural_network\\_multilayer_perceptron.py:614: ConvergenceWarning: Stochastic Optimizer: Maximum iterations (200) reached and the optimization hasn't converged yet.\n",
      "  warnings.warn(\n",
      "C:\\Users\\robeg\\anaconda3\\lib\\site-packages\\sklearn\\neural_network\\_multilayer_perceptron.py:614: ConvergenceWarning: Stochastic Optimizer: Maximum iterations (200) reached and the optimization hasn't converged yet.\n",
      "  warnings.warn(\n",
      "C:\\Users\\robeg\\anaconda3\\lib\\site-packages\\sklearn\\neural_network\\_multilayer_perceptron.py:614: ConvergenceWarning: Stochastic Optimizer: Maximum iterations (200) reached and the optimization hasn't converged yet.\n",
      "  warnings.warn(\n"
     ]
    },
    {
     "name": "stdout",
     "output_type": "stream",
     "text": [
      "              precision    recall  f1-score   support\n",
      "\n",
      "         0.0       0.83      0.81      0.82      1986\n",
      "         1.0       0.81      0.84      0.83      2014\n",
      "\n",
      "    accuracy                           0.82      4000\n",
      "   macro avg       0.82      0.82      0.82      4000\n",
      "weighted avg       0.82      0.82      0.82      4000\n",
      "\n"
     ]
    },
    {
     "name": "stderr",
     "output_type": "stream",
     "text": [
      "C:\\Users\\robeg\\anaconda3\\lib\\site-packages\\sklearn\\neural_network\\_multilayer_perceptron.py:614: ConvergenceWarning: Stochastic Optimizer: Maximum iterations (200) reached and the optimization hasn't converged yet.\n",
      "  warnings.warn(\n"
     ]
    }
   ],
   "source": [
    "#for n_samples in [2000, 4000, 6000, 8000]:\n",
    "for n_samples in [4000]:\n",
    "    for cv in [3, 10]:\n",
    "        accuracy = ResampleAndScore(mlp, trainGdp, n_samples, cv)\n",
    "        accuracy2 = ResampleAndScore(mlp, trainNoGdp, n_samples, cv)\n",
    "        accuracy3 = ResampleAndScore(mlp, trainRaw, n_samples, cv)"
   ]
  },
  {
   "cell_type": "markdown",
   "metadata": {},
   "source": [
    "Remarquez que le résultat est relativement meilleur avec le dataset original, sans le merge."
   ]
  },
  {
   "cell_type": "markdown",
   "metadata": {
    "pycharm": {
     "name": "#%% md\n"
    }
   },
   "source": [
    "## Section 2.2.4, optimations des paramètres"
   ]
  },
  {
   "cell_type": "code",
   "execution_count": 24,
   "metadata": {
    "pycharm": {
     "name": "#%%\n"
    }
   },
   "outputs": [],
   "source": [
    "#Définition des paramètres\n",
    "parameter_space = {\n",
    "    'hidden_layer_sizes': [(100,50), (80,20), (50,100,50)],\n",
    "    'activation': ['tanh', 'relu'],\n",
    "    'solver': ['sgd', 'adam'],\n",
    "    'max_iter':[100, 2500],\n",
    "    'learning_rate': ['constant','invscaling','adaptive'],\n",
    "}"
   ]
  },
  {
   "cell_type": "markdown",
   "metadata": {},
   "source": [
    "Essayons maintenant le gridsearch avec le dataset contenant le gdp"
   ]
  },
  {
   "cell_type": "code",
   "execution_count": 25,
   "metadata": {
    "pycharm": {
     "name": "#%%\n"
    }
   },
   "outputs": [],
   "source": [
    "#sample = resample(trainGdp, n_samples=200, replace=False, stratify=trainGdp['revenue'], random_state=52)\n",
    "xTrain, yTrain = split_xy(trainGdp)"
   ]
  },
  {
   "cell_type": "code",
   "execution_count": 26,
   "metadata": {},
   "outputs": [
    {
     "data": {
      "text/plain": [
       "GridSearchCV(cv=3, estimator=MLPClassifier(), n_jobs=-1,\n",
       "             param_grid={'activation': ['tanh', 'relu'],\n",
       "                         'hidden_layer_sizes': [(100, 50), (80, 20),\n",
       "                                                (50, 100, 50)],\n",
       "                         'learning_rate': ['constant', 'invscaling',\n",
       "                                           'adaptive'],\n",
       "                         'max_iter': [100, 2500], 'solver': ['sgd', 'adam']})"
      ]
     },
     "execution_count": 26,
     "metadata": {},
     "output_type": "execute_result"
    }
   ],
   "source": [
    "clf_grid = GridSearchCV(mlp, parameter_space, n_jobs=-1, cv=3)\n",
    "clf_grid.fit(xTrain, yTrain)"
   ]
  },
  {
   "cell_type": "code",
   "execution_count": 30,
   "metadata": {},
   "outputs": [
    {
     "name": "stdout",
     "output_type": "stream",
     "text": [
      "Meilleurs paramètres:\n",
      " {'activation': 'tanh', 'hidden_layer_sizes': (100, 50), 'learning_rate': 'adaptive', 'max_iter': 100, 'solver': 'sgd'}\n"
     ]
    }
   ],
   "source": [
    "print('Meilleurs paramètres:\\n', clf_grid.best_params_)"
   ]
  },
  {
   "cell_type": "code",
   "execution_count": 28,
   "metadata": {},
   "outputs": [
    {
     "data": {
      "text/plain": [
       "RandomizedSearchCV(cv=3, estimator=MLPClassifier(), n_jobs=-1,\n",
       "                   param_distributions={'activation': ['tanh', 'relu'],\n",
       "                                        'hidden_layer_sizes': [(100, 50),\n",
       "                                                               (80, 20),\n",
       "                                                               (50, 100, 50)],\n",
       "                                        'learning_rate': ['constant',\n",
       "                                                          'invscaling',\n",
       "                                                          'adaptive'],\n",
       "                                        'max_iter': [100, 2500],\n",
       "                                        'solver': ['sgd', 'adam']})"
      ]
     },
     "execution_count": 28,
     "metadata": {},
     "output_type": "execute_result"
    }
   ],
   "source": [
    "clf_random = RandomizedSearchCV(mlp, parameter_space, n_jobs=-1, cv=3)\n",
    "clf_random.fit(xTrain, yTrain)"
   ]
  },
  {
   "cell_type": "code",
   "execution_count": 31,
   "metadata": {},
   "outputs": [
    {
     "name": "stdout",
     "output_type": "stream",
     "text": [
      "Meilleurs paramètres:\n",
      " {'solver': 'adam', 'max_iter': 2500, 'learning_rate': 'adaptive', 'hidden_layer_sizes': (100, 50), 'activation': 'tanh'}\n"
     ]
    }
   ],
   "source": [
    "print('Meilleurs paramètres:\\n', clf_random.best_params_)"
   ]
  },
  {
   "cell_type": "markdown",
   "metadata": {},
   "source": [
    "Il est possible de remarquer que le randomized search semble aller beaucoup plus rapidement. Après quelques recherches, il semblerait que la différence avec le grid search est que le randomized search va sélectionner aléatoirement les hyperparamètres qu'on lui indique. Par opposition, le grid search va créer une grille et essayer chaque combinaisons d'hyperparamètres un à un, ce qui explique sa vitesse relativement lente. Par contre, c'est le grid search qui devrait donner un meilleur résultat. \n",
    "\n",
    "Source : https://www.linkedin.com/pulse/what-gridsearchcv-randomizedsearchcv-differences-between-cheruku"
   ]
  },
  {
   "cell_type": "markdown",
   "metadata": {},
   "source": [
    "Voyons maintenant avec les autres datasets, mais seulement avec le randomizedsearch pour plus de rapidité."
   ]
  },
  {
   "cell_type": "code",
   "execution_count": 32,
   "metadata": {},
   "outputs": [],
   "source": [
    "#Entraînement sans le gdp\n",
    "del xTrain, yTrain\n",
    "xTrain, yTrain = split_xy(trainNoGdp)"
   ]
  },
  {
   "cell_type": "code",
   "execution_count": 33,
   "metadata": {},
   "outputs": [
    {
     "data": {
      "text/plain": [
       "RandomizedSearchCV(cv=3, estimator=MLPClassifier(), n_jobs=-1,\n",
       "                   param_distributions={'activation': ['tanh', 'relu'],\n",
       "                                        'hidden_layer_sizes': [(100, 50),\n",
       "                                                               (80, 20),\n",
       "                                                               (50, 100, 50)],\n",
       "                                        'learning_rate': ['constant',\n",
       "                                                          'invscaling',\n",
       "                                                          'adaptive'],\n",
       "                                        'max_iter': [100, 2500],\n",
       "                                        'solver': ['sgd', 'adam']})"
      ]
     },
     "execution_count": 33,
     "metadata": {},
     "output_type": "execute_result"
    }
   ],
   "source": [
    "clf_random = RandomizedSearchCV(mlp, parameter_space, n_jobs=-1, cv=3)\n",
    "clf_random.fit(xTrain, yTrain)"
   ]
  },
  {
   "cell_type": "code",
   "execution_count": 36,
   "metadata": {},
   "outputs": [
    {
     "name": "stdout",
     "output_type": "stream",
     "text": [
      "Meilleurs paramètres:\n",
      " {'solver': 'adam', 'max_iter': 100, 'learning_rate': 'constant', 'hidden_layer_sizes': (80, 20), 'activation': 'relu'}\n"
     ]
    }
   ],
   "source": [
    "print('Meilleurs paramètres:\\n', clf_random.best_params_)"
   ]
  },
  {
   "cell_type": "code",
   "execution_count": 34,
   "metadata": {},
   "outputs": [],
   "source": [
    "#Entraînement seulement avec le dataset customer.\n",
    "del xTrain, yTrain\n",
    "xTrain, yTrain = split_xy(trainRaw)"
   ]
  },
  {
   "cell_type": "code",
   "execution_count": 35,
   "metadata": {},
   "outputs": [
    {
     "name": "stderr",
     "output_type": "stream",
     "text": [
      "C:\\Users\\robeg\\anaconda3\\lib\\site-packages\\sklearn\\neural_network\\_multilayer_perceptron.py:614: ConvergenceWarning: Stochastic Optimizer: Maximum iterations (100) reached and the optimization hasn't converged yet.\n",
      "  warnings.warn(\n"
     ]
    },
    {
     "data": {
      "text/plain": [
       "RandomizedSearchCV(cv=3, estimator=MLPClassifier(), n_jobs=-1,\n",
       "                   param_distributions={'activation': ['tanh', 'relu'],\n",
       "                                        'hidden_layer_sizes': [(100, 50),\n",
       "                                                               (80, 20),\n",
       "                                                               (50, 100, 50)],\n",
       "                                        'learning_rate': ['constant',\n",
       "                                                          'invscaling',\n",
       "                                                          'adaptive'],\n",
       "                                        'max_iter': [100, 2500],\n",
       "                                        'solver': ['sgd', 'adam']})"
      ]
     },
     "execution_count": 35,
     "metadata": {},
     "output_type": "execute_result"
    }
   ],
   "source": [
    "clf_random = RandomizedSearchCV(mlp, parameter_space, n_jobs=-1, cv=3)\n",
    "clf_random.fit(xTrain, yTrain)"
   ]
  },
  {
   "cell_type": "code",
   "execution_count": 37,
   "metadata": {},
   "outputs": [
    {
     "name": "stdout",
     "output_type": "stream",
     "text": [
      "Meilleurs paramètres:\n",
      " {'solver': 'adam', 'max_iter': 100, 'learning_rate': 'constant', 'hidden_layer_sizes': (80, 20), 'activation': 'relu'}\n"
     ]
    }
   ],
   "source": [
    "print('Meilleurs paramètres:\\n', clf_random.best_params_)"
   ]
  },
  {
   "cell_type": "markdown",
   "metadata": {},
   "source": [
    "Testons maintenant le modèle."
   ]
  },
  {
   "cell_type": "code",
   "execution_count": null,
   "metadata": {},
   "outputs": [],
   "source": []
  }
 ],
 "metadata": {
  "kernelspec": {
   "display_name": "Python 3",
   "language": "python",
   "name": "python3"
  },
  "language_info": {
   "codemirror_mode": {
    "name": "ipython",
    "version": 3
   },
   "file_extension": ".py",
   "mimetype": "text/x-python",
   "name": "python",
   "nbconvert_exporter": "python",
   "pygments_lexer": "ipython3",
   "version": "3.8.3"
  }
 },
 "nbformat": 4,
 "nbformat_minor": 1
}
