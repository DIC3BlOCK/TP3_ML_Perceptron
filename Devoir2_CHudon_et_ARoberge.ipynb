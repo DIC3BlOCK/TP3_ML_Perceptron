{
 "cells": [
  {
   "cell_type": "markdown",
   "id": "agricultural-contemporary",
   "metadata": {},
   "source": [
    "## 8IAR403 - Apprentissage machine pour la science des données\n",
    "\n",
    "# Devoir #2\n",
    "\n",
    "## Auteurs:\n",
    "## -> Christian Hudon - HUDC04076909\n",
    "## -> Alex Roberge - ROBA19129504\n",
    "## Date de remise: 15 mars 2021"
   ]
  },
  {
   "cell_type": "markdown",
   "id": "centered-morning",
   "metadata": {
    "pycharm": {
     "name": "#%% md\n"
    }
   },
   "source": [
    "### Notes sur les données d'entrées\n",
    "\n",
    "Notre avons initialement intégré la classification (binaire ou multiclasse) via paramétrisation de notre pipeline de TP1.\n",
    "Celui-ci faisait déjà l'ajout optionnel des données de PIB (GDP). Pour ne pas inclure le traitement du TP1 dans ce TP,\n",
    "nous avons donc séparé cette partie du traitement dans le fichier Preparation_Donnees_TP1.ipynb après votre consigne.\n",
    "Cependant, comme les fonctions de labélisation (demandée au point 2.1.1 et 2.2.1) font partie intégrale de notre pipeline,\n",
    "vous pourrez les trouver dans l'autre fichier. Ces fonctions sont nommées binary_label_encoder et category_label_encoder\n",
    "respectivement.\n",
    "<br>Ce TP utilise 4 TBA générés avec notre pipeline soit:\n",
    "<ul>\n",
    "<li>customers_bin_sans_gdp.csv: TBA avec revenue en classe binaire sans la colonne gpd</li>\n",
    "<li>customers_bin_avec_gdp.csv: TBA avec revenue en classe binaire avec la colonne gpd</li>\n",
    "<li>customers_cat_sans_gdp.csv: TBA avec revenue multiclasse sans la colonne gpd</li>\n",
    "<li>customers_cat_avec_gdp.csv: TBA avec revenue multiclasse avec la colonne gpd</li>\n",
    "</ul>"
   ]
  },
  {
   "cell_type": "markdown",
   "id": "martial-initial",
   "metadata": {},
   "source": [
    "### Traitement extras\n",
    "Comme la distribution de la colonne revenue avant transformation avait une distribution non normale\n",
    "(Exponential-logarithmic distribution), classifier cette variable en 3 catégories comme demandé (+/- 2sigma) donnait\n",
    "des classes très déséquilibrées.\n",
    "<br/>Dans un premier temps, nous avons tenté de corriger le débalancement en effectuant de l'over-échantillonnage de type SMOTE.\n",
    "La performance de nos modèles n'était pas très bonne avec cette méthode.\n",
    "<br/>Dans un deuxième temps, nous avons appliqué une transformation Box-Cox (voir pipeline dans fichier TP1).\n",
    "sur la variable revenue pour la ramener à une distribution normale avant de séparer en 3 classes. Ceci nous a donné un\n",
    "meilleur équilibre entre nos trois classes. Améliorant la performance de nos modèles sans avoir besoin d'over échantillonnage.\n",
    "Ref: https://towardsdatascience.com/box-cox-transformation-explained-51d745e34203\n",
    "<br/> Nous avons laissé le code de l'over-échantillonnage dans le TP même s'il ne sert plus."
   ]
  },
  {
   "cell_type": "code",
   "execution_count": 1,
   "id": "unlikely-crisis",
   "metadata": {
    "pycharm": {
     "name": "#%%\n"
    }
   },
   "outputs": [],
   "source": [
    "import matplotlib.pyplot as plt\n",
    "import pandas as pd\n",
    "import seaborn as sns\n",
    "from IPython import InteractiveShell\n",
    "from imblearn.over_sampling import SMOTE\n",
    "from sklearn import metrics\n",
    "from sklearn.metrics import accuracy_score, f1_score\n",
    "from sklearn.metrics import precision_score, recall_score\n",
    "from sklearn.model_selection import GridSearchCV, train_test_split\n",
    "from sklearn.model_selection import cross_val_predict\n",
    "from sklearn.tree import DecisionTreeClassifier\n",
    "from sklearn.utils import resample\n",
    "InteractiveShell.ast_node_interactivity = \"all\"\n",
    "\n",
    "# Initialise la grosseur de figures\n",
    "plt.rcParams[\"figure.figsize\"] = (20,10)"
   ]
  },
  {
   "cell_type": "code",
   "execution_count": 2,
   "id": "dress-scientist",
   "metadata": {
    "pycharm": {
     "name": "#%%\n"
    }
   },
   "outputs": [],
   "source": [
    "#import import_ipynb\n",
    "#from utilitaires.ipynb import *\n",
    "%run utilitaires.ipynb"
   ]
  },
  {
   "cell_type": "markdown",
   "id": "comprehensive-african",
   "metadata": {},
   "source": [
    "# TP2 - Question 2.1 - Entrainement d'un classeur binaire"
   ]
  },
  {
   "cell_type": "code",
   "execution_count": 3,
   "id": "higher-money",
   "metadata": {
    "pycharm": {
     "name": "#%%\n"
    }
   },
   "outputs": [],
   "source": [
    "# Lecture des données\n",
    "customers_bin_sans_gdp = pd.read_csv(\"customers_bin_sans_gdp.csv\")\n",
    "customers_bin_avec_gdp = pd.read_csv(\"customers_bin_avec_gdp.csv\")"
   ]
  },
  {
   "cell_type": "code",
   "execution_count": 4,
   "id": "coordinate-level",
   "metadata": {
    "pycharm": {
     "name": "#%%\n"
    }
   },
   "outputs": [],
   "source": [
    "# Sépare jeux de test final\n",
    "train_data_avec_gdp, test_data_avec_gdp = train_test_split(customers_bin_avec_gdp, test_size=0.2, random_state=42)\n",
    "train_data_sans_gdp, test_data_sans_gdp = train_test_split(customers_bin_sans_gdp, test_size=0.2, random_state=42)"
   ]
  },
  {
   "cell_type": "markdown",
   "id": "caroline-sunglasses",
   "metadata": {},
   "source": [
    "### Question 2.1.1 - Écrire une fonction pour remplacer cette variable « revenu » par une variable binaire\n",
    "Voir note de début de fichier"
   ]
  },
  {
   "cell_type": "markdown",
   "id": "conservative-picnic",
   "metadata": {},
   "source": [
    "### Question 2.1.2 - Échantionnage stratifié et 2.1.3 Validation croisée"
   ]
  },
  {
   "cell_type": "code",
   "execution_count": 5,
   "id": "hundred-cocktail",
   "metadata": {
    "pycharm": {
     "name": "#%%\n"
    }
   },
   "outputs": [],
   "source": [
    "# Pour la section 2.1, nous utilisons un DescisionTree sans Paramètres\n",
    "clf = DecisionTreeClassifier()"
   ]
  },
  {
   "cell_type": "markdown",
   "id": "realistic-cloud",
   "metadata": {},
   "source": [
    "# Question 2.1.3 - Entraîner et tester par la validation croisée pour k = 3 et k = 10.\n",
    "# Question 2.1.4 - Mesurer les métriques de précision, rappel et F1-Mesure."
   ]
  },
  {
   "cell_type": "code",
   "execution_count": 6,
   "id": "sufficient-addiction",
   "metadata": {
    "pycharm": {
     "name": "#%%\n"
    }
   },
   "outputs": [],
   "source": [
    "# Fonction qui affiche les métriques (2.1.4)\n",
    "def PredAndScore(clf, x, y, cv):\n",
    "    \"\"\"Fait la cv et print les résultats de la fonction ResampleAndScore en plus de retourner le score total\"\"\"\n",
    "\n",
    "    y_pred = cross_val_predict(clf, x, y, cv=cv)\n",
    "\n",
    "    print(\"***cv de {0}***\\n\".format(cv))\n",
    "    print(\"matrice de confusion:\\n\",metrics.confusion_matrix(y,y_pred))\n",
    "    print(\"\\nmetrics accuracy score: \", metrics.accuracy_score(y,y_pred))\n",
    "#    print(\"\\nPrecisionscore: \",precision_score(y, y_pred))\n",
    "#    print(\"\\nRecall score: \",recall_score(y, y_pred))\n",
    "#    print(\"\\nF1_score: \",f1_score(y, y_pred))\n",
    "\n",
    "    print(metrics.classification_report(y, y_pred))\n",
    "\n",
    "    return metrics.accuracy_score(y, y_pred)\n",
    "\n",
    "# Fonction qui effectue un echantillonnage une validation croisée\n",
    "def ResampleAndScore(clf, Trainset, n_samples, cv):\n",
    "    \"\"\"La fonction fait la cross-validation et appelle l'autre fonction pour print les résultats.\"\"\"\n",
    "    sample = resample(Trainset, n_samples=n_samples, replace=False, random_state=0)\n",
    "    xTrain, yTrain = split_xy(sample)\n",
    "    print(\"--Pour\",n_samples, \"échantillons--\")\n",
    "\n",
    "    s1 = PredAndScore(clf, xTrain, yTrain, cv)\n",
    "\n",
    "    del sample, xTrain, yTrain\n",
    "    return s1"
   ]
  },
  {
   "cell_type": "code",
   "execution_count": 7,
   "id": "physical-board",
   "metadata": {
    "pycharm": {
     "name": "#%%\n"
    }
   },
   "outputs": [
    {
     "name": "stdout",
     "output_type": "stream",
     "text": [
      "--Pour 2000 échantillons--\n",
      "***cv de 3***\n",
      "\n",
      "matrice de confusion:\n",
      " [[796 205]\n",
      " [233 766]]\n",
      "\n",
      "metrics accuracy score:  0.781\n",
      "              precision    recall  f1-score   support\n",
      "\n",
      "         0.0       0.77      0.80      0.78      1001\n",
      "         1.0       0.79      0.77      0.78       999\n",
      "\n",
      "    accuracy                           0.78      2000\n",
      "   macro avg       0.78      0.78      0.78      2000\n",
      "weighted avg       0.78      0.78      0.78      2000\n",
      "\n",
      "--Pour 2000 échantillons--\n",
      "***cv de 3***\n",
      "\n",
      "matrice de confusion:\n",
      " [[770 231]\n",
      " [233 766]]\n",
      "\n",
      "metrics accuracy score:  0.768\n",
      "              precision    recall  f1-score   support\n",
      "\n",
      "         0.0       0.77      0.77      0.77      1001\n",
      "         1.0       0.77      0.77      0.77       999\n",
      "\n",
      "    accuracy                           0.77      2000\n",
      "   macro avg       0.77      0.77      0.77      2000\n",
      "weighted avg       0.77      0.77      0.77      2000\n",
      "\n",
      "--Pour 2000 échantillons--\n",
      "***cv de 10***\n",
      "\n",
      "matrice de confusion:\n",
      " [[786 215]\n",
      " [238 761]]\n",
      "\n",
      "metrics accuracy score:  0.7735\n",
      "              precision    recall  f1-score   support\n",
      "\n",
      "         0.0       0.77      0.79      0.78      1001\n",
      "         1.0       0.78      0.76      0.77       999\n",
      "\n",
      "    accuracy                           0.77      2000\n",
      "   macro avg       0.77      0.77      0.77      2000\n",
      "weighted avg       0.77      0.77      0.77      2000\n",
      "\n",
      "--Pour 2000 échantillons--\n",
      "***cv de 10***\n",
      "\n",
      "matrice de confusion:\n",
      " [[773 228]\n",
      " [226 773]]\n",
      "\n",
      "metrics accuracy score:  0.773\n",
      "              precision    recall  f1-score   support\n",
      "\n",
      "         0.0       0.77      0.77      0.77      1001\n",
      "         1.0       0.77      0.77      0.77       999\n",
      "\n",
      "    accuracy                           0.77      2000\n",
      "   macro avg       0.77      0.77      0.77      2000\n",
      "weighted avg       0.77      0.77      0.77      2000\n",
      "\n",
      "--Pour 4000 échantillons--\n",
      "***cv de 3***\n",
      "\n",
      "matrice de confusion:\n",
      " [[1610  392]\n",
      " [ 429 1569]]\n",
      "\n",
      "metrics accuracy score:  0.79475\n",
      "              precision    recall  f1-score   support\n",
      "\n",
      "         0.0       0.79      0.80      0.80      2002\n",
      "         1.0       0.80      0.79      0.79      1998\n",
      "\n",
      "    accuracy                           0.79      4000\n",
      "   macro avg       0.79      0.79      0.79      4000\n",
      "weighted avg       0.79      0.79      0.79      4000\n",
      "\n",
      "--Pour 4000 échantillons--\n",
      "***cv de 3***\n",
      "\n",
      "matrice de confusion:\n",
      " [[1603  399]\n",
      " [ 402 1596]]\n",
      "\n",
      "metrics accuracy score:  0.79975\n",
      "              precision    recall  f1-score   support\n",
      "\n",
      "         0.0       0.80      0.80      0.80      2002\n",
      "         1.0       0.80      0.80      0.80      1998\n",
      "\n",
      "    accuracy                           0.80      4000\n",
      "   macro avg       0.80      0.80      0.80      4000\n",
      "weighted avg       0.80      0.80      0.80      4000\n",
      "\n",
      "--Pour 4000 échantillons--\n",
      "***cv de 10***\n",
      "\n",
      "matrice de confusion:\n",
      " [[1621  381]\n",
      " [ 417 1581]]\n",
      "\n",
      "metrics accuracy score:  0.8005\n",
      "              precision    recall  f1-score   support\n",
      "\n",
      "         0.0       0.80      0.81      0.80      2002\n",
      "         1.0       0.81      0.79      0.80      1998\n",
      "\n",
      "    accuracy                           0.80      4000\n",
      "   macro avg       0.80      0.80      0.80      4000\n",
      "weighted avg       0.80      0.80      0.80      4000\n",
      "\n",
      "--Pour 4000 échantillons--\n",
      "***cv de 10***\n",
      "\n",
      "matrice de confusion:\n",
      " [[1605  397]\n",
      " [ 387 1611]]\n",
      "\n",
      "metrics accuracy score:  0.804\n",
      "              precision    recall  f1-score   support\n",
      "\n",
      "         0.0       0.81      0.80      0.80      2002\n",
      "         1.0       0.80      0.81      0.80      1998\n",
      "\n",
      "    accuracy                           0.80      4000\n",
      "   macro avg       0.80      0.80      0.80      4000\n",
      "weighted avg       0.80      0.80      0.80      4000\n",
      "\n",
      "--Pour 6000 échantillons--\n",
      "***cv de 3***\n",
      "\n",
      "matrice de confusion:\n",
      " [[2383  610]\n",
      " [ 674 2333]]\n",
      "\n",
      "metrics accuracy score:  0.786\n",
      "              precision    recall  f1-score   support\n",
      "\n",
      "         0.0       0.78      0.80      0.79      2993\n",
      "         1.0       0.79      0.78      0.78      3007\n",
      "\n",
      "    accuracy                           0.79      6000\n",
      "   macro avg       0.79      0.79      0.79      6000\n",
      "weighted avg       0.79      0.79      0.79      6000\n",
      "\n",
      "--Pour 6000 échantillons--\n",
      "***cv de 3***\n",
      "\n",
      "matrice de confusion:\n",
      " [[2393  600]\n",
      " [ 646 2361]]\n",
      "\n",
      "metrics accuracy score:  0.7923333333333333\n",
      "              precision    recall  f1-score   support\n",
      "\n",
      "         0.0       0.79      0.80      0.79      2993\n",
      "         1.0       0.80      0.79      0.79      3007\n",
      "\n",
      "    accuracy                           0.79      6000\n",
      "   macro avg       0.79      0.79      0.79      6000\n",
      "weighted avg       0.79      0.79      0.79      6000\n",
      "\n",
      "--Pour 6000 échantillons--\n",
      "***cv de 10***\n",
      "\n",
      "matrice de confusion:\n",
      " [[2377  616]\n",
      " [ 631 2376]]\n",
      "\n",
      "metrics accuracy score:  0.7921666666666667\n",
      "              precision    recall  f1-score   support\n",
      "\n",
      "         0.0       0.79      0.79      0.79      2993\n",
      "         1.0       0.79      0.79      0.79      3007\n",
      "\n",
      "    accuracy                           0.79      6000\n",
      "   macro avg       0.79      0.79      0.79      6000\n",
      "weighted avg       0.79      0.79      0.79      6000\n",
      "\n",
      "--Pour 6000 échantillons--\n",
      "***cv de 10***\n",
      "\n",
      "matrice de confusion:\n",
      " [[2395  598]\n",
      " [ 632 2375]]\n",
      "\n",
      "metrics accuracy score:  0.795\n",
      "              precision    recall  f1-score   support\n",
      "\n",
      "         0.0       0.79      0.80      0.80      2993\n",
      "         1.0       0.80      0.79      0.79      3007\n",
      "\n",
      "    accuracy                           0.80      6000\n",
      "   macro avg       0.80      0.80      0.79      6000\n",
      "weighted avg       0.80      0.80      0.79      6000\n",
      "\n",
      "--Pour 8000 échantillons--\n",
      "***cv de 3***\n",
      "\n",
      "matrice de confusion:\n",
      " [[3173  799]\n",
      " [ 858 3170]]\n",
      "\n",
      "metrics accuracy score:  0.792875\n",
      "              precision    recall  f1-score   support\n",
      "\n",
      "         0.0       0.79      0.80      0.79      3972\n",
      "         1.0       0.80      0.79      0.79      4028\n",
      "\n",
      "    accuracy                           0.79      8000\n",
      "   macro avg       0.79      0.79      0.79      8000\n",
      "weighted avg       0.79      0.79      0.79      8000\n",
      "\n",
      "--Pour 8000 échantillons--\n",
      "***cv de 3***\n",
      "\n",
      "matrice de confusion:\n",
      " [[3170  802]\n",
      " [ 815 3213]]\n",
      "\n",
      "metrics accuracy score:  0.797875\n",
      "              precision    recall  f1-score   support\n",
      "\n",
      "         0.0       0.80      0.80      0.80      3972\n",
      "         1.0       0.80      0.80      0.80      4028\n",
      "\n",
      "    accuracy                           0.80      8000\n",
      "   macro avg       0.80      0.80      0.80      8000\n",
      "weighted avg       0.80      0.80      0.80      8000\n",
      "\n",
      "--Pour 8000 échantillons--\n",
      "***cv de 10***\n",
      "\n",
      "matrice de confusion:\n",
      " [[3173  799]\n",
      " [ 826 3202]]\n",
      "\n",
      "metrics accuracy score:  0.796875\n",
      "              precision    recall  f1-score   support\n",
      "\n",
      "         0.0       0.79      0.80      0.80      3972\n",
      "         1.0       0.80      0.79      0.80      4028\n",
      "\n",
      "    accuracy                           0.80      8000\n",
      "   macro avg       0.80      0.80      0.80      8000\n",
      "weighted avg       0.80      0.80      0.80      8000\n",
      "\n",
      "--Pour 8000 échantillons--\n",
      "***cv de 10***\n",
      "\n",
      "matrice de confusion:\n",
      " [[3191  781]\n",
      " [ 822 3206]]\n",
      "\n",
      "metrics accuracy score:  0.799625\n",
      "              precision    recall  f1-score   support\n",
      "\n",
      "         0.0       0.80      0.80      0.80      3972\n",
      "         1.0       0.80      0.80      0.80      4028\n",
      "\n",
      "    accuracy                           0.80      8000\n",
      "   macro avg       0.80      0.80      0.80      8000\n",
      "weighted avg       0.80      0.80      0.80      8000\n",
      "\n"
     ]
    }
   ],
   "source": [
    "# Effectue toutes les validations croisées pour toutes les tailles d'échantillons et de valeurs kk\n",
    "resultats = []\n",
    "for n_samples in [2000, 4000, 6000, 8000]:\n",
    "    for cv in [3, 10]:\n",
    "        accuracy = ResampleAndScore(clf, train_data_avec_gdp, n_samples, cv)\n",
    "        resultats.append({'n_samples': n_samples, 'gdp': 'Avec', 'cv': cv, 'accuracy': accuracy})\n",
    "        accuracy = ResampleAndScore(clf, train_data_sans_gdp, n_samples, cv)\n",
    "        resultats.append({'n_samples': n_samples, 'gdp': 'Sans', 'cv': cv, 'accuracy': accuracy})"
   ]
  },
  {
   "cell_type": "markdown",
   "id": "statistical-brazilian",
   "metadata": {},
   "source": [
    "Les prochaines lignes de code affichent les résultats des différents échantillons avec leur précision, rappel et F1-mesure."
   ]
  },
  {
   "cell_type": "code",
   "execution_count": 8,
   "id": "ordinary-norway",
   "metadata": {
    "pycharm": {
     "name": "#%%\n"
    }
   },
   "outputs": [
    {
     "data": {
      "text/plain": "<seaborn.axisgrid.FacetGrid at 0x2571c341220>"
     },
     "execution_count": 8,
     "metadata": {},
     "output_type": "execute_result"
    },
    {
     "data": {
      "text/plain": "<Figure size 408.75x360 with 1 Axes>",
      "image/png": "[encoded data removed]"
     },
     "metadata": {
      "needs_background": "light"
     },
     "output_type": "display_data"
    }
   ],
   "source": [
    "#Affiche les résultats Avec GPD\n",
    "res_df=pd.DataFrame(resultats)\n",
    "sns.catplot(data=res_df[res_df[\"gdp\"]==\"Avec\"], x=\"n_samples\", y=\"accuracy\", hue=\"cv\", kind=\"bar\")"
   ]
  },
  {
   "cell_type": "code",
   "execution_count": 9,
   "id": "chief-blade",
   "metadata": {
    "pycharm": {
     "name": "#%%\n"
    }
   },
   "outputs": [
    {
     "data": {
      "text/plain": "<seaborn.axisgrid.FacetGrid at 0x25716581d30>"
     },
     "execution_count": 9,
     "metadata": {},
     "output_type": "execute_result"
    },
    {
     "data": {
      "text/plain": "<Figure size 408.75x360 with 1 Axes>",
      "image/png": "[encoded data removed]"
     },
     "metadata": {
      "needs_background": "light"
     },
     "output_type": "display_data"
    }
   ],
   "source": [
    "#Affiche les résultats Sans GPD\n",
    "sns.catplot(data=res_df[res_df[\"gdp\"]==\"Sans\"], x=\"n_samples\", y=\"accuracy\", hue=\"cv\", kind=\"bar\")"
   ]
  },
  {
   "cell_type": "code",
   "execution_count": 10,
   "id": "revolutionary-accent",
   "metadata": {
    "pycharm": {
     "name": "#%%\n"
    }
   },
   "outputs": [
    {
     "data": {
      "text/plain": "<seaborn.axisgrid.FacetGrid at 0x2571cdb3070>"
     },
     "execution_count": 10,
     "metadata": {},
     "output_type": "execute_result"
    },
    {
     "data": {
      "text/plain": "<Figure size 420x360 with 1 Axes>",
      "image/png": "[encoded data removed]"
     },
     "metadata": {
      "needs_background": "light"
     },
     "output_type": "display_data"
    }
   ],
   "source": [
    "#Compare les résultats moyens Avec vs Sans gpd par n_samples\n",
    "moy_df = res_df.groupby(['gdp', 'n_samples']).mean().reset_index()\n",
    "\n",
    "sns.catplot(data=moy_df, x=\"n_samples\", y=\"accuracy\", hue=\"gdp\", kind=\"bar\")"
   ]
  },
  {
   "cell_type": "markdown",
   "id": "anonymous-money",
   "metadata": {},
   "source": [
    "### Question 2.1.5 - Entrainement avec GridSearchCV"
   ]
  },
  {
   "cell_type": "code",
   "execution_count": 11,
   "id": "wound-vancouver",
   "metadata": {
    "pycharm": {
     "name": "#%%\n"
    }
   },
   "outputs": [],
   "source": [
    "# OverSampling\n",
    "# À faire:\n",
    "# 1- pip install imblearn\n",
    "# 2- pip install delayed\n",
    "# 3- restart jupyter\n",
    "\n",
    "def over_sample(sample):\n",
    "    xTrain, yTrain = split_xy(sample)\n",
    "    oversample = SMOTE()\n",
    "    X_sm, y_sm = oversample.fit_resample(xTrain, yTrain)\n",
    "    print(y_sm.value_counts())\n",
    "    return X_sm, y_sm"
   ]
  },
  {
   "cell_type": "code",
   "execution_count": 12,
   "id": "medieval-twelve",
   "metadata": {
    "pycharm": {
     "name": "#%%\n"
    }
   },
   "outputs": [],
   "source": [
    "# Fonctions utilitaire pour l'entrainement\n",
    "default_grid_params = {'max_depth': list(range(2, 20)), 'min_samples_split': [10, 15, 20]}\n",
    "def train_classifer(classifer, train_data, grid_search_params, cv=10, n_samples=2000, over_sampling=False):\n",
    "    # On prend un echantillon\n",
    "    sample = resample(train_data)\n",
    "\n",
    "    if over_sampling:\n",
    "        xTrain, yTrain = over_sample(sample)\n",
    "    else:\n",
    "        xTrain, yTrain = split_xy(sample)\n",
    "\n",
    "    # Définie le grid search\n",
    "    grid_search = GridSearchCV(classifer, param_grid=grid_search_params, n_jobs=-1, verbose=3, cv=cv)\n",
    "\n",
    "    # Fit\n",
    "    grid_search.fit(xTrain, yTrain)\n",
    "\n",
    "    #le meilleur estimateur (modele) trouvé est:\n",
    "    return grid_search.best_estimator_"
   ]
  },
  {
   "cell_type": "code",
   "execution_count": 13,
   "id": "returning-alpha",
   "metadata": {
    "pycharm": {
     "name": "#%%\n"
    }
   },
   "outputs": [],
   "source": [
    "# Fonctions utilitaire pour l'entrainement\n",
    "def test_classifer(classifier, test_data):\n",
    "    x_test, y_test = split_xy(test_data)\n",
    "    y_pred = classifier.predict(x_test)\n",
    "\n",
    "    accuracy = accuracy_score(y_test, y_pred)\n",
    "    confusion_matrix = metrics.confusion_matrix(y_test, y_pred, normalize='all')\n",
    "    print(metrics.classification_report(y_test, y_pred))\n",
    "\n",
    "    return accuracy, confusion_matrix"
   ]
  },
  {
   "cell_type": "markdown",
   "id": "mediterranean-pharmaceutical",
   "metadata": {},
   "source": [
    "### Section 2.1.5 - Entrainement d'un classeur binaire"
   ]
  },
  {
   "cell_type": "code",
   "execution_count": 14,
   "id": "asian-chase",
   "metadata": {
    "pycharm": {
     "name": "#%%\n"
    }
   },
   "outputs": [],
   "source": [
    "# Pour la section 2.1.5, on utilises un DecisionTreeClassifier avec paramêtres par défaut\n",
    "clf = DecisionTreeClassifier(random_state=42)"
   ]
  },
  {
   "cell_type": "markdown",
   "id": "coral-recognition",
   "metadata": {},
   "source": [
    "### 2.1.5a Entrainement classificateur binaire Avec Gdp"
   ]
  },
  {
   "cell_type": "code",
   "execution_count": 15,
   "id": "collaborative-myanmar",
   "metadata": {
    "pycharm": {
     "name": "#%%\n"
    }
   },
   "outputs": [
    {
     "name": "stdout",
     "output_type": "stream",
     "text": [
      "Fitting 10 folds for each of 54 candidates, totalling 540 fits\n"
     ]
    },
    {
     "data": {
      "text/plain": "DecisionTreeClassifier(max_depth=19, min_samples_split=10, random_state=42)"
     },
     "execution_count": 15,
     "metadata": {},
     "output_type": "execute_result"
    }
   ],
   "source": [
    "clf_bin_avec_gpd = train_classifer(clf, train_data_avec_gdp, grid_search_params=default_grid_params, n_samples=8000, over_sampling=False)\n",
    "clf_bin_avec_gpd"
   ]
  },
  {
   "cell_type": "markdown",
   "id": "thirty-klein",
   "metadata": {},
   "source": [
    "### 2.1.6a Test classificateur multiclasse Avec Gdp"
   ]
  },
  {
   "cell_type": "code",
   "execution_count": 16,
   "id": "imported-option",
   "metadata": {
    "pycharm": {
     "name": "#%%\n"
    }
   },
   "outputs": [
    {
     "name": "stdout",
     "output_type": "stream",
     "text": [
      "              precision    recall  f1-score   support\n",
      "\n",
      "         0.0       0.81      0.82      0.81      1003\n",
      "         1.0       0.81      0.81      0.81       997\n",
      "\n",
      "    accuracy                           0.81      2000\n",
      "   macro avg       0.81      0.81      0.81      2000\n",
      "weighted avg       0.81      0.81      0.81      2000\n",
      "\n",
      "Accuracy: 0.813\n"
     ]
    },
    {
     "data": {
      "text/plain": "<Figure size 576x432 with 2 Axes>",
      "image/png": "[encoded data removed]"
     },
     "metadata": {
      "needs_background": "light"
     },
     "output_type": "display_data"
    }
   ],
   "source": [
    "accuracy_bin_avec_gdp, confusion_matrix = test_classifer(clf_bin_avec_gpd, test_data_avec_gdp)\n",
    "plot_confusion_matrix(confusion_matrix, ['haut', 'bas'])\n",
    "print(\"Accuracy: {0}\".format(accuracy_bin_avec_gdp))"
   ]
  },
  {
   "cell_type": "markdown",
   "id": "elect-brass",
   "metadata": {},
   "source": [
    "## Entrainement et test de classificateur binaire Sans Gdp"
   ]
  },
  {
   "cell_type": "markdown",
   "id": "polyphonic-constitutional",
   "metadata": {},
   "source": [
    "### 2.1.5b Entrainement classificateur binaire Sans Gdp"
   ]
  },
  {
   "cell_type": "code",
   "execution_count": 17,
   "id": "liberal-grade",
   "metadata": {
    "pycharm": {
     "name": "#%%\n"
    }
   },
   "outputs": [
    {
     "name": "stdout",
     "output_type": "stream",
     "text": [
      "Fitting 10 folds for each of 54 candidates, totalling 540 fits\n"
     ]
    },
    {
     "data": {
      "text/plain": "DecisionTreeClassifier(max_depth=19, min_samples_split=10, random_state=42)"
     },
     "execution_count": 17,
     "metadata": {},
     "output_type": "execute_result"
    }
   ],
   "source": [
    "clf_bin_sans_gpd = train_classifer(clf, train_data_sans_gdp, grid_search_params=default_grid_params, n_samples=8000, over_sampling=False)\n",
    "clf_bin_sans_gpd"
   ]
  },
  {
   "cell_type": "markdown",
   "id": "reported-product",
   "metadata": {},
   "source": [
    "### 2.1.6b Test classificateur multiclasse Sans Gdp"
   ]
  },
  {
   "cell_type": "code",
   "execution_count": 18,
   "id": "pursuant-fruit",
   "metadata": {
    "pycharm": {
     "name": "#%%\n"
    }
   },
   "outputs": [
    {
     "name": "stdout",
     "output_type": "stream",
     "text": [
      "              precision    recall  f1-score   support\n",
      "\n",
      "         0.0       0.85      0.79      0.82      1003\n",
      "         1.0       0.80      0.87      0.83       997\n",
      "\n",
      "    accuracy                           0.83      2000\n",
      "   macro avg       0.83      0.83      0.83      2000\n",
      "weighted avg       0.83      0.83      0.83      2000\n",
      "\n",
      "Accuracy: 0.8255\n"
     ]
    },
    {
     "data": {
      "text/plain": "<Figure size 576x432 with 2 Axes>",
      "image/png": "[encoded data removed]"
     },
     "metadata": {
      "needs_background": "light"
     },
     "output_type": "display_data"
    }
   ],
   "source": [
    "accuracy_bin_sans_gdp, confusion_matrix = test_classifer(clf_bin_sans_gpd, test_data_sans_gdp)\n",
    "plot_confusion_matrix(confusion_matrix, ['haut', 'bas'])\n",
    "print(\"Accuracy: {0}\".format(accuracy_bin_sans_gdp))\n"
   ]
  },
  {
   "cell_type": "markdown",
   "id": "cloudy-coalition",
   "metadata": {},
   "source": [
    "### 2.1.7 - Représenter graphiquement et à l’aide de tableaux l’ensemble des résultats des métriques de performance"
   ]
  },
  {
   "cell_type": "code",
   "execution_count": 19,
   "id": "compressed-acceptance",
   "metadata": {
    "pycharm": {
     "name": "#%%\n"
    }
   },
   "outputs": [
    {
     "data": {
      "text/plain": "[]"
     },
     "execution_count": 19,
     "metadata": {},
     "output_type": "execute_result"
    },
    {
     "data": {
      "text/plain": "<Figure size 1440x720 with 1 Axes>",
      "image/png": "[encoded data removed]"
     },
     "metadata": {
      "needs_background": "light"
     },
     "output_type": "display_data"
    }
   ],
   "source": [
    "res_df = pd.DataFrame.from_dict(\n",
    "    [\n",
    "        {'type':'binaire', 'gdp':'Avec', 'accuracy':accuracy_bin_avec_gdp},\n",
    "        {'type':'binaire', 'gdp':'Sans', 'accuracy':accuracy_bin_sans_gdp}\n",
    "    ])\n",
    "sns.barplot(data= res_df, x=\"type\", y=\"accuracy\", hue='gdp').plot()\n",
    "plt.show()\n"
   ]
  },
  {
   "cell_type": "markdown",
   "id": "peaceful-champagne",
   "metadata": {},
   "source": [
    "### 2.1.8 - Analyser et interprétez les résultats obtenus.\n",
    "<br/>Avec GDP, le meilleur modèle trouvé est: max_depth=19, min_samples_split=10\n",
    "<br/>Sans GDP, le meilleur modèle trouvé est: max_depth=18, min_samples_split=10\n",
    "<br/>Avec ou sans GDP nous obtenons sensiblement la même performance"
   ]
  },
  {
   "cell_type": "markdown",
   "id": "objective-template",
   "metadata": {},
   "source": [
    "# Section 2.2 - Entrainement d'un classeur multiclasse"
   ]
  },
  {
   "cell_type": "markdown",
   "source": [
    "### Question 2.2.1 - Écrire une fonction pour remplacer la variable « revenu » en multiclasse\n",
    "Voir note de début de fichier"
   ],
   "metadata": {
    "collapsed": false
   }
  },
  {
   "cell_type": "markdown",
   "id": "tired-mercury",
   "metadata": {},
   "source": [
    "## Entrainement et test de classificateur multiclasse Avec Gdp"
   ]
  },
  {
   "cell_type": "code",
   "execution_count": 20,
   "id": "sweet-psychiatry",
   "metadata": {
    "pycharm": {
     "name": "#%%\n"
    }
   },
   "outputs": [],
   "source": [
    "# Lecture des données\n",
    "customers_cat_sans_gdp = pd.read_csv(\"customers_cat_sans_gdp.csv\")\n",
    "customers_cat_avec_gdp = pd.read_csv(\"customers_cat_avec_gdp.csv\")"
   ]
  },
  {
   "cell_type": "code",
   "execution_count": 21,
   "id": "editorial-canal",
   "metadata": {
    "pycharm": {
     "name": "#%%\n"
    }
   },
   "outputs": [],
   "source": [
    "# Sépare jeux de test final\n",
    "train_data_avec_gdp, test_data_avec_gdp = train_test_split(customers_cat_avec_gdp, test_size=0.2, random_state=42)\n",
    "train_data_sans_gdp, test_data_sans_gdp = train_test_split(customers_cat_sans_gdp, test_size=0.2, random_state=42)"
   ]
  },
  {
   "cell_type": "code",
   "execution_count": 22,
   "id": "entitled-chemistry",
   "metadata": {
    "pycharm": {
     "name": "#%%\n"
    }
   },
   "outputs": [],
   "source": [
    "# Pour la section 2.2, on utiliser un DecisionTreeClassifier avec paramêtres par defaut\n",
    "clf = DecisionTreeClassifier(random_state=42)\n"
   ]
  },
  {
   "cell_type": "markdown",
   "id": "forced-treasury",
   "metadata": {},
   "source": [
    "## Entrainement classificateur multiclasse Avec Gdp"
   ]
  },
  {
   "cell_type": "code",
   "execution_count": 23,
   "id": "frozen-bargain",
   "metadata": {
    "pycharm": {
     "name": "#%%\n"
    }
   },
   "outputs": [
    {
     "name": "stdout",
     "output_type": "stream",
     "text": [
      "Fitting 10 folds for each of 54 candidates, totalling 540 fits\n"
     ]
    },
    {
     "data": {
      "text/plain": "DecisionTreeClassifier(max_depth=18, min_samples_split=10, random_state=42)"
     },
     "execution_count": 23,
     "metadata": {},
     "output_type": "execute_result"
    }
   ],
   "source": [
    "clf_multi_avec_gpd = train_classifer(clf, train_data_avec_gdp, grid_search_params=default_grid_params, n_samples=8000, over_sampling=False)\n",
    "clf_multi_avec_gpd"
   ]
  },
  {
   "cell_type": "markdown",
   "id": "every-barrier",
   "metadata": {},
   "source": [
    "## Test classificateur multiclasse Avec Gdp"
   ]
  },
  {
   "cell_type": "code",
   "execution_count": 24,
   "id": "democratic-harassment",
   "metadata": {
    "pycharm": {
     "name": "#%%\n"
    }
   },
   "outputs": [
    {
     "name": "stdout",
     "output_type": "stream",
     "text": [
      "              precision    recall  f1-score   support\n",
      "\n",
      "         0.0       0.61      0.62      0.61       344\n",
      "         1.0       0.79      0.80      0.79      1293\n",
      "         2.0       0.63      0.58      0.60       363\n",
      "\n",
      "    accuracy                           0.73      2000\n",
      "   macro avg       0.67      0.67      0.67      2000\n",
      "weighted avg       0.73      0.73      0.73      2000\n",
      "\n",
      "Accuracy: 0.729\n"
     ]
    },
    {
     "data": {
      "text/plain": "<Figure size 576x432 with 2 Axes>",
      "image/png": "[encoded data removed]"
     },
     "metadata": {
      "needs_background": "light"
     },
     "output_type": "display_data"
    }
   ],
   "source": [
    "accuracy_multi_avec_gdp, confusion_matrix = test_classifer(clf_multi_avec_gpd, test_data_avec_gdp)\n",
    "plot_confusion_matrix(confusion_matrix, ['bas', 'moyen', 'haut'])\n",
    "print(\"Accuracy: {0}\".format(accuracy_multi_avec_gdp))"
   ]
  },
  {
   "cell_type": "markdown",
   "id": "tamil-gossip",
   "metadata": {},
   "source": [
    "# Entrainement et test de classificateur multiclasse Sans Gdp"
   ]
  },
  {
   "cell_type": "markdown",
   "id": "overhead-advocacy",
   "metadata": {},
   "source": [
    "## Entrainement classificateur multiclasse Sans Gdp"
   ]
  },
  {
   "cell_type": "code",
   "execution_count": 25,
   "id": "matched-columbus",
   "metadata": {
    "pycharm": {
     "name": "#%%\n"
    }
   },
   "outputs": [
    {
     "name": "stdout",
     "output_type": "stream",
     "text": [
      "Fitting 10 folds for each of 54 candidates, totalling 540 fits\n"
     ]
    },
    {
     "data": {
      "text/plain": "DecisionTreeClassifier(max_depth=19, min_samples_split=10, random_state=42)"
     },
     "execution_count": 25,
     "metadata": {},
     "output_type": "execute_result"
    }
   ],
   "source": [
    "clf_multi_sans_gpd = train_classifer(clf, train_data_sans_gdp, grid_search_params=default_grid_params, n_samples=8000, over_sampling=False)\n",
    "clf_multi_sans_gpd"
   ]
  },
  {
   "cell_type": "markdown",
   "id": "economic-papua",
   "metadata": {},
   "source": [
    "## Test classificateur multiclasse Sans Gdp"
   ]
  },
  {
   "cell_type": "code",
   "execution_count": 26,
   "id": "collected-briefs",
   "metadata": {
    "pycharm": {
     "name": "#%%\n"
    }
   },
   "outputs": [
    {
     "name": "stdout",
     "output_type": "stream",
     "text": [
      "              precision    recall  f1-score   support\n",
      "\n",
      "         0.0       0.72      0.60      0.65       344\n",
      "         1.0       0.80      0.86      0.83      1293\n",
      "         2.0       0.68      0.58      0.62       363\n",
      "\n",
      "    accuracy                           0.77      2000\n",
      "   macro avg       0.73      0.68      0.70      2000\n",
      "weighted avg       0.76      0.77      0.76      2000\n",
      "\n",
      "Accuracy: 0.766\n"
     ]
    },
    {
     "data": {
      "text/plain": "<Figure size 576x432 with 2 Axes>",
      "image/png": "[encoded data removed]"
     },
     "metadata": {
      "needs_background": "light"
     },
     "output_type": "display_data"
    }
   ],
   "source": [
    "accuracy_multi_sans_gdp, confusion_matrix = test_classifer(clf_multi_sans_gpd, test_data_sans_gdp)\n",
    "plot_confusion_matrix(confusion_matrix, ['bas', 'moyen', 'haut'])\n",
    "print(\"Accuracy: {0}\".format(accuracy_multi_sans_gdp))"
   ]
  },
  {
   "cell_type": "markdown",
   "id": "breeding-ownership",
   "metadata": {
    "pycharm": {
     "name": "#%% md\n"
    }
   },
   "source": [
    "### 2.2.2 Quel est le meilleur classeur pouvant discriminer les 3 revenus ?\n",
    "<br/>Avec GDP, le meilleur modèle trouvé est: max_depth=19, min_samples_split=10\n",
    "<br/>Sans GDP, le meilleur modèle trouvé est: max_depth=19, min_samples_split=10\n",
    "<br/>Nous obtenons un meilleure performance sans la colonne GDP\n"
   ]
  },
  {
   "cell_type": "markdown",
   "source": [
    "### 2.2.3 Comparaison avec les classeurs binaires.\n",
    "Conclusion: Les classeurs binaires sont plus performants."
   ],
   "metadata": {
    "collapsed": false
   }
  },
  {
   "cell_type": "code",
   "execution_count": 27,
   "id": "committed-addition",
   "metadata": {
    "pycharm": {
     "name": "#%%\n"
    }
   },
   "outputs": [
    {
     "data": {
      "text/plain": "[]"
     },
     "execution_count": 27,
     "metadata": {},
     "output_type": "execute_result"
    },
    {
     "data": {
      "text/plain": "<Figure size 1440x720 with 1 Axes>",
      "image/png": "[encoded data removed]"
     },
     "metadata": {
      "needs_background": "light"
     },
     "output_type": "display_data"
    }
   ],
   "source": [
    "res_df = res_df.append(\n",
    "    [\n",
    "        {'type':'multiclasse', 'gdp':'Avec', 'accuracy':accuracy_multi_avec_gdp},\n",
    "        {'type':'multiclasse', 'gdp':'Sans', 'accuracy':accuracy_multi_sans_gdp}\n",
    "    ])\n",
    "sns.barplot(data= res_df, x=\"type\", y=\"accuracy\", hue='gdp').plot()\n",
    "plt.show()\n"
   ]
  },
  {
   "cell_type": "markdown",
   "id": "registered-cradle",
   "metadata": {},
   "source": [
    "# Section 2.3 - Entrainement d'un classeur multiclasse aléatoire"
   ]
  },
  {
   "cell_type": "code",
   "execution_count": 28,
   "id": "alternative-associate",
   "metadata": {
    "pycharm": {
     "name": "#%%\n"
    }
   },
   "outputs": [],
   "source": [
    "# Sépare jeux de test final\n",
    "train_data_avec_gdp, test_data_avec_gdp = train_test_split(customers_cat_avec_gdp, test_size=0.2, random_state=42)\n",
    "train_data_sans_gdp, test_data_sans_gdp = train_test_split(customers_cat_sans_gdp, test_size=0.2, random_state=42)"
   ]
  },
  {
   "cell_type": "markdown",
   "id": "ranging-happiness",
   "metadata": {},
   "source": [
    "# Entrainement et test de classificateur multiclasse Avec Gdp"
   ]
  },
  {
   "cell_type": "code",
   "execution_count": 29,
   "id": "another-nylon",
   "metadata": {
    "pycharm": {
     "name": "#%%\n"
    }
   },
   "outputs": [],
   "source": [
    "# Pour la section 2.3, on utilise un DecisionTreeClassifier avec splitter=random et max_features=log2\n",
    "clf = DecisionTreeClassifier(random_state=42, splitter='random', max_features='log2')"
   ]
  },
  {
   "cell_type": "markdown",
   "id": "infinite-browser",
   "metadata": {},
   "source": [
    "## Entrainement classificateur multiclasse Avec Gdp"
   ]
  },
  {
   "cell_type": "code",
   "execution_count": 30,
   "id": "selected-place",
   "metadata": {
    "pycharm": {
     "name": "#%%\n"
    }
   },
   "outputs": [
    {
     "name": "stdout",
     "output_type": "stream",
     "text": [
      "Fitting 10 folds for each of 54 candidates, totalling 540 fits\n"
     ]
    },
    {
     "data": {
      "text/plain": "DecisionTreeClassifier(max_depth=19, max_features='log2', min_samples_split=10,\n                       random_state=42, splitter='random')"
     },
     "execution_count": 30,
     "metadata": {},
     "output_type": "execute_result"
    }
   ],
   "source": [
    "clf_multi_avec_gpd = train_classifer(clf, train_data_avec_gdp, grid_search_params=default_grid_params, n_samples=8000, over_sampling=False)\n",
    "clf_multi_avec_gpd"
   ]
  },
  {
   "cell_type": "markdown",
   "id": "dated-happiness",
   "metadata": {},
   "source": [
    "## Test classificateur multiclasse Avec Gdp"
   ]
  },
  {
   "cell_type": "code",
   "execution_count": 31,
   "id": "answering-ribbon",
   "metadata": {
    "pycharm": {
     "name": "#%%\n"
    }
   },
   "outputs": [
    {
     "name": "stdout",
     "output_type": "stream",
     "text": [
      "              precision    recall  f1-score   support\n",
      "\n",
      "         0.0       0.60      0.27      0.37       344\n",
      "         1.0       0.72      0.89      0.80      1293\n",
      "         2.0       0.63      0.44      0.52       363\n",
      "\n",
      "    accuracy                           0.70      2000\n",
      "   macro avg       0.65      0.53      0.56      2000\n",
      "weighted avg       0.68      0.70      0.67      2000\n",
      "\n",
      "Accuracy: 0.7005\n"
     ]
    },
    {
     "data": {
      "text/plain": "<Figure size 576x432 with 2 Axes>",
      "image/png": "[encoded data removed]"
     },
     "metadata": {
      "needs_background": "light"
     },
     "output_type": "display_data"
    }
   ],
   "source": [
    "accuracy_random_avec_gdp, confusion_matrix = test_classifer(clf_multi_avec_gpd, test_data_avec_gdp)\n",
    "plot_confusion_matrix(confusion_matrix, ['bas', 'moyen', 'haut'])\n",
    "print(\"Accuracy: {0}\".format(accuracy_random_avec_gdp))"
   ]
  },
  {
   "cell_type": "markdown",
   "id": "herbal-better",
   "metadata": {},
   "source": [
    "# Entrainement et test de classificateur multiclasse Sans Gdp"
   ]
  },
  {
   "cell_type": "markdown",
   "id": "upset-skating",
   "metadata": {},
   "source": [
    "## Entrainement classificateur multiclasse Sans Gdp"
   ]
  },
  {
   "cell_type": "code",
   "execution_count": 32,
   "id": "periodic-antique",
   "metadata": {
    "pycharm": {
     "name": "#%%\n"
    }
   },
   "outputs": [
    {
     "name": "stdout",
     "output_type": "stream",
     "text": [
      "Fitting 10 folds for each of 54 candidates, totalling 540 fits\n"
     ]
    },
    {
     "data": {
      "text/plain": "DecisionTreeClassifier(max_depth=18, max_features='log2', min_samples_split=15,\n                       random_state=42, splitter='random')"
     },
     "execution_count": 32,
     "metadata": {},
     "output_type": "execute_result"
    }
   ],
   "source": [
    "clf_multi_sans_gpd = train_classifer(clf, train_data_sans_gdp, grid_search_params=default_grid_params, n_samples=8000, over_sampling=False)\n",
    "clf_multi_sans_gpd"
   ]
  },
  {
   "cell_type": "markdown",
   "id": "herbal-authentication",
   "metadata": {},
   "source": [
    "## Test classificateur multiclasse Sans Gdp"
   ]
  },
  {
   "cell_type": "code",
   "execution_count": 33,
   "id": "civilian-vacuum",
   "metadata": {
    "pycharm": {
     "name": "#%%\n"
    }
   },
   "outputs": [
    {
     "name": "stdout",
     "output_type": "stream",
     "text": [
      "              precision    recall  f1-score   support\n",
      "\n",
      "         0.0       0.63      0.14      0.23       344\n",
      "         1.0       0.69      0.91      0.79      1293\n",
      "         2.0       0.59      0.33      0.43       363\n",
      "\n",
      "    accuracy                           0.68      2000\n",
      "   macro avg       0.64      0.46      0.48      2000\n",
      "weighted avg       0.66      0.68      0.63      2000\n",
      "\n",
      "Accuracy: 0.6765\n"
     ]
    },
    {
     "data": {
      "text/plain": "<Figure size 576x432 with 2 Axes>",
      "image/png": "[encoded data removed]"
     },
     "metadata": {
      "needs_background": "light"
     },
     "output_type": "display_data"
    }
   ],
   "source": [
    "accuracy_random_sans_gdp, confusion_matrix = test_classifer(clf_multi_sans_gpd, test_data_sans_gdp)\n",
    "plot_confusion_matrix(confusion_matrix, ['bas', 'moyen', 'haut'])\n",
    "print(\"Accuracy: {0}\".format(accuracy_random_sans_gdp))"
   ]
  },
  {
   "cell_type": "markdown",
   "id": "twenty-brunswick",
   "metadata": {},
   "source": [
    "## Compare les résultats avec et sans gdp\n",
    "<br/>Avec GDP, le meilleur modèle trouvé est: max_depth=17, min_samples_split=10\n",
    "<br/>Sans GDP, le meilleur modèle trouvé est: max_depth=18, min_samples_split=15\n",
    "<br/>Nous obtenons une meilleure performance sans la colonne GDP"
   ]
  },
  {
   "cell_type": "markdown",
   "source": [
    "### 2.3.2 Comparaison avec les autres classeurs.\n",
    "Conclusion: Les classeurs aléatoires sont les moins performants.\n",
    "<br/>Les classeurs binaires sont plus performants, car il est plus simple de classer en 2 classes qu'en 3 classes.\n",
    "<br/>Le splitter 'best' donne de meilleurs résultats que le splitter 'random'.\n",
    "<br/>Nous notons que tous les classeurs arrivent à des valeurs de max_depth et min_samples_split semblables."
   ],
   "metadata": {
    "collapsed": false
   }
  },
  {
   "cell_type": "code",
   "execution_count": 34,
   "outputs": [
    {
     "data": {
      "text/plain": "[]"
     },
     "execution_count": 34,
     "metadata": {},
     "output_type": "execute_result"
    },
    {
     "data": {
      "text/plain": "<Figure size 1440x720 with 1 Axes>",
      "image/png": "[encoded data removed]"
     },
     "metadata": {
      "needs_background": "light"
     },
     "output_type": "display_data"
    }
   ],
   "source": [
    "res_df = res_df.append(\n",
    "    [\n",
    "        {'type':'random', 'gdp':'Avec', 'accuracy':accuracy_random_avec_gdp},\n",
    "        {'type':'random', 'gdp':'Sans', 'accuracy':accuracy_random_sans_gdp}\n",
    "    ])\n",
    "sns.barplot(data= res_df, x=\"type\", y=\"accuracy\", hue=\"gdp\").plot()\n",
    "plt.show()\n"
   ],
   "metadata": {
    "collapsed": false,
    "pycharm": {
     "name": "#%%\n"
    }
   }
  },
  {
   "cell_type": "markdown",
   "id": "organic-gilbert",
   "metadata": {
    "pycharm": {
     "name": "#%% md\n"
    }
   },
   "source": [
    "### Fin du TP2"
   ]
  }
 ],
 "metadata": {
  "celltoolbar": "Edit Metadata",
  "kernelspec": {
   "display_name": "Python 3",
   "language": "python",
   "name": "python3"
  },
  "language_info": {
   "codemirror_mode": {
    "name": "ipython",
    "version": 3
   },
   "file_extension": ".py",
   "mimetype": "text/x-python",
   "name": "python",
   "nbconvert_exporter": "python",
   "pygments_lexer": "ipython3",
   "version": "3.8.5"
  }
 },
 "nbformat": 4,
 "nbformat_minor": 5
}