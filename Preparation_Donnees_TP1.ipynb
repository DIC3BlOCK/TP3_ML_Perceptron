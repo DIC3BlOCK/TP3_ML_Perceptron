{
 "cells": [
  {
   "cell_type": "markdown",
   "source": [
    "# Fichier pour prérarer les données pour les TP 2 et 3\n",
    "\n",
    "Basé sur le travail du TP1. Produit les 4 TBA suivants:\n",
    "- customers_bin_avec_gdp.csv: TBA avec revenu labellisé binaire et colonne gdp\n",
    "- customers_bin_sans_gdp.csv: TBA avec revenu labellisé binaire\n",
    "- customers_cat_avec_gdp.csv: TBA avec revenu labellisé en 3 catégories et colonne gdp\n",
    "- customers_cat_sans_gdp.csv: TBA avec revenu labellisé en 3 catégories"
   ],
   "metadata": {
    "collapsed": false
   }
  },
  {
   "cell_type": "code",
   "execution_count": 1,
   "outputs": [],
   "source": [
    "import matplotlib.pyplot as plt\n",
    "import numpy as np\n",
    "import pandas as pd\n",
    "from IPython import InteractiveShell\n",
    "from sklearn.compose import *\n",
    "from sklearn.feature_extraction.text import _VectorizerMixin\n",
    "from sklearn.feature_selection._base import SelectorMixin\n",
    "from sklearn.impute import SimpleImputer\n",
    "from sklearn.model_selection import train_test_split\n",
    "from sklearn.pipeline import Pipeline\n",
    "from sklearn.preprocessing import *\n",
    "InteractiveShell.ast_node_interactivity = \"all\"\n",
    "\n",
    "# Initialise la grosseur de figures\n",
    "plt.rcParams[\"figure.figsize\"] = (20,10)"
   ],
   "metadata": {
    "collapsed": false,
    "pycharm": {
     "name": "#%%\n"
    }
   }
  },
  {
   "cell_type": "markdown",
   "source": [
    "# Récupérer les données"
   ],
   "metadata": {
    "collapsed": false
   }
  },
  {
   "cell_type": "code",
   "execution_count": 2,
   "outputs": [],
   "source": [
    "customers = pd.read_csv('Customer.csv', na_values=['?', 'unknown'])\n",
    "gdps = pd.read_csv('CountryGDP.csv')\n",
    "populations = pd.read_csv('CountryPopulation.csv')"
   ],
   "metadata": {
    "collapsed": false,
    "pycharm": {
     "name": "#%%\n"
    }
   }
  },
  {
   "cell_type": "markdown",
   "source": [
    "## Création des jeux de données d'entrainement et de test"
   ],
   "metadata": {
    "collapsed": false
   }
  },
  {
   "cell_type": "code",
   "execution_count": 3,
   "outputs": [
    {
     "data": {
      "text/plain": "(8000, 8)"
     },
     "execution_count": 3,
     "metadata": {},
     "output_type": "execute_result"
    },
    {
     "data": {
      "text/plain": "(2000, 8)"
     },
     "execution_count": 3,
     "metadata": {},
     "output_type": "execute_result"
    }
   ],
   "source": [
    "train_set, test_set = train_test_split(customers, test_size=0.2, random_state=42)\n",
    "train_set.shape\n",
    "test_set.shape"
   ],
   "metadata": {
    "collapsed": false,
    "pycharm": {
     "name": "#%%\n"
    }
   }
  },
  {
   "cell_type": "markdown",
   "source": [
    "### Remplacement des données aberrantes"
   ],
   "metadata": {
    "collapsed": false
   }
  },
  {
   "cell_type": "code",
   "execution_count": 4,
   "outputs": [],
   "source": [
    "# Création de la fonctionn qui sera appellée dans le pipeline\n",
    "def fit_outliers(df: pd.DataFrame) -> pd.DataFrame:\n",
    "    '''\n",
    "    Fonction pour le 'clamp transformation'.\n",
    "    Ramène tout les outliers (hors de [Q1 - 1.5IQR, Q3 + 1.5IQR] à l'intérieur de l'interval.\n",
    "    :param df:\n",
    "    :return:\n",
    "    '''\n",
    "    cols = df.columns\n",
    "    Q1 = df[cols].quantile(0.25)\n",
    "    Q3 = df[cols].quantile(0.75)\n",
    "    IQR = Q3 - Q1\n",
    "\n",
    "    q15 = (Q1 - 1.5 * IQR)\n",
    "    q35 = (Q3 + 1.5 * IQR)\n",
    "    df2 = df[cols].clip(q15[cols], q35[cols], axis=1)\n",
    "\n",
    "    return df2"
   ],
   "metadata": {
    "collapsed": false,
    "pycharm": {
     "name": "#%%\n"
    }
   }
  },
  {
   "cell_type": "code",
   "execution_count": 5,
   "outputs": [
    {
     "data": {
      "text/plain": "<AxesSubplot:>"
     },
     "execution_count": 5,
     "metadata": {},
     "output_type": "execute_result"
    },
    {
     "data": {
      "text/plain": "       first_item_prize          age\ncount       7997.000000  8000.000000\nmean          40.285044    37.391750\nstd           27.625504     9.480534\nmin           10.000000    18.000000\n25%           22.000000    31.000000\n50%           42.000000    37.000000\n75%           44.000000    43.000000\nmax          117.000000    79.000000",
      "text/html": "<div>\n<style scoped>\n    .dataframe tbody tr th:only-of-type {\n        vertical-align: middle;\n    }\n\n    .dataframe tbody tr th {\n        vertical-align: top;\n    }\n\n    .dataframe thead th {\n        text-align: right;\n    }\n</style>\n<table border=\"1\" class=\"dataframe\">\n  <thead>\n    <tr style=\"text-align: right;\">\n      <th></th>\n      <th>first_item_prize</th>\n      <th>age</th>\n    </tr>\n  </thead>\n  <tbody>\n    <tr>\n      <th>count</th>\n      <td>7997.000000</td>\n      <td>8000.000000</td>\n    </tr>\n    <tr>\n      <th>mean</th>\n      <td>40.285044</td>\n      <td>37.391750</td>\n    </tr>\n    <tr>\n      <th>std</th>\n      <td>27.625504</td>\n      <td>9.480534</td>\n    </tr>\n    <tr>\n      <th>min</th>\n      <td>10.000000</td>\n      <td>18.000000</td>\n    </tr>\n    <tr>\n      <th>25%</th>\n      <td>22.000000</td>\n      <td>31.000000</td>\n    </tr>\n    <tr>\n      <th>50%</th>\n      <td>42.000000</td>\n      <td>37.000000</td>\n    </tr>\n    <tr>\n      <th>75%</th>\n      <td>44.000000</td>\n      <td>43.000000</td>\n    </tr>\n    <tr>\n      <th>max</th>\n      <td>117.000000</td>\n      <td>79.000000</td>\n    </tr>\n  </tbody>\n</table>\n</div>"
     },
     "execution_count": 5,
     "metadata": {},
     "output_type": "execute_result"
    },
    {
     "data": {
      "text/plain": "<Figure size 1440x720 with 1 Axes>",
      "image/png": "[encoded data removed]"
     },
     "metadata": {
      "needs_background": "light"
     },
     "output_type": "display_data"
    }
   ],
   "source": [
    "# Test de la fonction clip\n",
    "dftest = train_set[['first_item_prize', 'age']].copy()\n",
    "dftest.boxplot()\n",
    "dftest.describe()"
   ],
   "metadata": {
    "collapsed": false,
    "pycharm": {
     "name": "#%%\n"
    }
   }
  },
  {
   "cell_type": "code",
   "execution_count": 6,
   "outputs": [
    {
     "data": {
      "text/plain": "<AxesSubplot:>"
     },
     "execution_count": 6,
     "metadata": {},
     "output_type": "execute_result"
    },
    {
     "data": {
      "text/plain": "       first_item_prize         age\ncount       7997.000000  8000.00000\nmean          37.206140    37.18925\nstd           20.747153     8.82027\nmin           10.000000    18.00000\n25%           22.000000    31.00000\n50%           42.000000    37.00000\n75%           44.000000    43.00000\nmax           77.000000    61.00000",
      "text/html": "<div>\n<style scoped>\n    .dataframe tbody tr th:only-of-type {\n        vertical-align: middle;\n    }\n\n    .dataframe tbody tr th {\n        vertical-align: top;\n    }\n\n    .dataframe thead th {\n        text-align: right;\n    }\n</style>\n<table border=\"1\" class=\"dataframe\">\n  <thead>\n    <tr style=\"text-align: right;\">\n      <th></th>\n      <th>first_item_prize</th>\n      <th>age</th>\n    </tr>\n  </thead>\n  <tbody>\n    <tr>\n      <th>count</th>\n      <td>7997.000000</td>\n      <td>8000.00000</td>\n    </tr>\n    <tr>\n      <th>mean</th>\n      <td>37.206140</td>\n      <td>37.18925</td>\n    </tr>\n    <tr>\n      <th>std</th>\n      <td>20.747153</td>\n      <td>8.82027</td>\n    </tr>\n    <tr>\n      <th>min</th>\n      <td>10.000000</td>\n      <td>18.00000</td>\n    </tr>\n    <tr>\n      <th>25%</th>\n      <td>22.000000</td>\n      <td>31.00000</td>\n    </tr>\n    <tr>\n      <th>50%</th>\n      <td>42.000000</td>\n      <td>37.00000</td>\n    </tr>\n    <tr>\n      <th>75%</th>\n      <td>44.000000</td>\n      <td>43.00000</td>\n    </tr>\n    <tr>\n      <th>max</th>\n      <td>77.000000</td>\n      <td>61.00000</td>\n    </tr>\n  </tbody>\n</table>\n</div>"
     },
     "execution_count": 6,
     "metadata": {},
     "output_type": "execute_result"
    },
    {
     "data": {
      "text/plain": "<Figure size 1440x720 with 1 Axes>",
      "image/png": "[encoded data removed]"
     },
     "metadata": {
      "needs_background": "light"
     },
     "output_type": "display_data"
    }
   ],
   "source": [
    "# Execute et check le résultat\n",
    "ret = fit_outliers(dftest)\n",
    "ret.boxplot()\n",
    "ret.describe()\n",
    "del dftest\n",
    "del ret\n",
    "# La fonction fit_outliers semble bien fonctionner."
   ],
   "metadata": {
    "collapsed": false,
    "pycharm": {
     "name": "#%%\n"
    }
   }
  },
  {
   "cell_type": "code",
   "execution_count": 7,
   "outputs": [],
   "source": [
    "def clamp_transformation(data):\n",
    "    '''\n",
    "    # Version pour nparray (le pipeline fonctionnne avec des arrays\n",
    "    # Convertie en DataFrame pour appeler fit_outliers\n",
    "    '''\n",
    "    return fit_outliers(pd.DataFrame(data))\n"
   ],
   "metadata": {
    "collapsed": false,
    "pycharm": {
     "name": "#%%\n"
    }
   }
  },
  {
   "cell_type": "markdown",
   "source": [
    "### Fonction pour joindre les datasets CountryPopulation et CountryGDP"
   ],
   "metadata": {
    "collapsed": false
   }
  },
  {
   "cell_type": "code",
   "execution_count": 8,
   "outputs": [],
   "source": [
    "def merge_country_data(data: pd.DataFrame, pop_data: pd.DataFrame = None,\n",
    "                       gdp_data: pd.DataFrame = None) -> pd.DataFrame:\n",
    "    \"\"\"\n",
    "    Merge les données de population et/ou de gdp par habitant au dataset customer\n",
    "    :param data: DataFrame customers d'origine (assume une colonne nommée 'country')\n",
    "    :param pop_data: Optionel. DataFrame population à joindre (assume une colonne nommée 'Country')\n",
    "    :param gdp_data: Optionel. DataFrame gdpData à joindre (assume une colonne nommée 'Country')\n",
    "    :return: Un nouveau DataFrame\n",
    "    \"\"\"\n",
    "    new_data = data.copy()\n",
    "    if pop_data is not None:\n",
    "        new_data = new_data.merge(pop_data.rename(columns={'Country': 'country'}))\n",
    "    if gdp_data is not None:\n",
    "        new_data = new_data.merge(gdp_data.rename(columns={'Country': 'country'}))\n",
    "    return new_data"
   ],
   "metadata": {
    "collapsed": false,
    "pycharm": {
     "name": "#%%\n"
    }
   }
  },
  {
   "cell_type": "code",
   "execution_count": 9,
   "outputs": [],
   "source": [
    "def merge_data(data, include_gdps=False):\n",
    "    '''\n",
    "    Pour faire comme demandé dans TP.\n",
    "    Fonction qui sera utilisée dans le pipeline. Merge population automatiquement.\n",
    "\n",
    "    :param data:\n",
    "    :param include_gdps: Si include_gdps True, merge gdps aussi\n",
    "    :return: dataframe modifié\n",
    "    '''\n",
    "    print('include_gdps={}'.format(include_gdps))\n",
    "    if include_gdps:\n",
    "        print('merge avec gdps')\n",
    "        return merge_country_data(data, populations, gdps)\n",
    "    print('merge sans gdps')\n",
    "    return merge_country_data(data, populations)"
   ],
   "metadata": {
    "collapsed": false,
    "pycharm": {
     "name": "#%%\n"
    }
   }
  },
  {
   "cell_type": "code",
   "execution_count": 10,
   "outputs": [
    {
     "name": "stdout",
     "output_type": "stream",
     "text": [
      "median=100.0\n"
     ]
    }
   ],
   "source": [
    "# TP2 - Question 2.1.1 - Fonction pour remplacer revenu par une valeur binaire\n",
    "def binary_label_encoder(X):\n",
    "    med = np.nanmedian(X)\n",
    "    print('median={}'.format(med))\n",
    "    X=np.where(X < med, False, True)\n",
    "    return X\n",
    "\n",
    "dftest = train_set[\"revenue\"].copy()\n",
    "Binary_Func = FunctionTransformer(binary_label_encoder)\n",
    "ret = Binary_Func.fit_transform(dftest)\n",
    "del dftest\n",
    "del ret"
   ],
   "metadata": {
    "collapsed": false,
    "pycharm": {
     "name": "#%%\n"
    }
   }
  },
  {
   "cell_type": "code",
   "execution_count": 11,
   "outputs": [
    {
     "name": "stdout",
     "output_type": "stream",
     "text": [
      "122.72527197699137 86.43890940840272\n",
      "1.0    6027\n",
      "2.0    1200\n",
      "0.0     770\n",
      "dtype: int64\n"
     ]
    }
   ],
   "source": [
    "# TP2 - Question 2.2.1 - Fonction pour remplacer revenu par 3 catégories\n",
    "def category_label_encoder(X):\n",
    "    moy = np.mean(X)\n",
    "    std = np.std(X)\n",
    "    bas = moy - (1 * std)\n",
    "    haut = moy + (1 * std)\n",
    "\n",
    "    print (moy, std)\n",
    "    conditions  = [X < bas, (X >= bas) & (X <= haut), X > haut]\n",
    "#    choices     = ['bas', 'moyen', 'haut']\n",
    "    choices     = [0, 1, 2]\n",
    "\n",
    "    X = np.select(conditions, choices, default=np.nan)\n",
    "\n",
    "    return X\n",
    "\n",
    "dftest = train_set[\"revenue\"].copy()\n",
    "Cat_Func = FunctionTransformer(category_label_encoder)\n",
    "ret = Cat_Func.fit_transform(dftest)\n",
    "print(pd.DataFrame(ret).value_counts())\n",
    "#del dftest #permet de libérer la mémoire du notebook de la variable temporaire.\n",
    "#del ret"
   ],
   "metadata": {
    "collapsed": false,
    "pycharm": {
     "name": "#%%\n"
    }
   }
  },
  {
   "cell_type": "code",
   "execution_count": 12,
   "outputs": [],
   "source": [
    "def label_encoder(X, binary=True):\n",
    "    \"\"\"Fonction qui choisit entre binary encoder et categorical encoder\"\"\"\n",
    "    if binary:\n",
    "        return binary_label_encoder(X)\n",
    "    else:\n",
    "        return category_label_encoder(X)\n"
   ],
   "metadata": {
    "collapsed": false,
    "pycharm": {
     "name": "#%%\n"
    }
   }
  },
  {
   "cell_type": "markdown",
   "source": [
    "## Création du pipeline"
   ],
   "metadata": {
    "collapsed": false
   }
  },
  {
   "cell_type": "code",
   "execution_count": 13,
   "outputs": [],
   "source": [
    "# Transformation des variables numériques\n",
    "num_transformer = Pipeline([\n",
    "    ('imputer', SimpleImputer()),\n",
    "    # Question 3.1.2: Remplacement des données aberrantes\n",
    "    ('clamp', FunctionTransformer(clamp_transformation, validate=False)),#clamp transformation = fonction pour retourner en dataframe\n",
    "    ('std', StandardScaler())\n",
    "], verbose=False)\n"
   ],
   "metadata": {
    "collapsed": false,
    "pycharm": {
     "name": "#%%\n"
    }
   }
  },
  {
   "cell_type": "code",
   "execution_count": 14,
   "outputs": [],
   "source": [
    "# Transformation des variables catégorielles\n",
    "cat_transformer = Pipeline([\n",
    "    ('encoder', OneHotEncoder(handle_unknown='ignore', sparse=False))\n",
    "], verbose=False)\n"
   ],
   "metadata": {
    "collapsed": false,
    "pycharm": {
     "name": "#%%\n"
    }
   }
  },
  {
   "cell_type": "code",
   "execution_count": 15,
   "outputs": [],
   "source": [
    "# Transformation de labels\n",
    "label_transformer = Pipeline([\n",
    "    ('imputer', SimpleImputer()),\n",
    "    ('power', PowerTransformer(method='box-cox')),\n",
    "#    ('std', StandardScaler()),\n",
    "    ('labeler', FunctionTransformer(label_encoder, validate=False))\n",
    "], verbose=False)\n"
   ],
   "metadata": {
    "collapsed": false,
    "pycharm": {
     "name": "#%%\n"
    }
   }
  },
  {
   "cell_type": "code",
   "execution_count": 16,
   "outputs": [],
   "source": [
    "# Prépare toute les données\n",
    "numCols=['age', 'pages', 'first_item_prize', 'News_click', 'ReBuy']\n",
    "catCols=['gender', 'country']\n",
    "preprocessor = ColumnTransformer(\n",
    "    transformers=[\n",
    "        ('label', label_transformer, ['revenue']),\n",
    "        ('num', num_transformer, numCols),\n",
    "        ('cat', cat_transformer, catCols),\n",
    "    ],\n",
    "    remainder='passthrough',\n",
    "    #remainder indique quoi faire avec les attributs non traités, ou passé dans le preprocessor.\n",
    "    #Par défaut il les droperait.\n",
    "\n",
    "    verbose=False,\n",
    "    #verbose indique quels sont les étapes et où nous sommes rendu.\n",
    "    #L'ordre a de l'importance dans le transformer, par exemple, la colonne 0 dans ce cas est la colonne de revenue.\n",
    "\n",
    ")"
   ],
   "metadata": {
    "collapsed": false,
    "pycharm": {
     "name": "#%%\n"
    }
   }
  },
  {
   "cell_type": "code",
   "execution_count": 17,
   "outputs": [],
   "source": [
    "# On met le tout ensemble\n",
    "tp1_pipeline = Pipeline([\n",
    "    # Question 3.2: Fonction pour joindre les datasets CountryPopulation et CountryGDP\n",
    "    ('merge', FunctionTransformer(merge_data, validate=False)),\n",
    "    ('preprocessor', preprocessor),\n",
    "], verbose=False)"
   ],
   "metadata": {
    "collapsed": false,
    "pycharm": {
     "name": "#%%\n"
    }
   }
  },
  {
   "cell_type": "code",
   "execution_count": 18,
   "outputs": [],
   "source": [
    "### Code pour rebatir un DataFrame après l'execution du pipeline qui transforme en np.array\n",
    "#Source: https://stackoverflow.com/questions/57528350/can-you-consistently-keep-track-of-column-labels-using-sklearns-transformer-api\n",
    "def get_feature_out(estimator, feature_in):\n",
    "    if hasattr(estimator,'get_feature_names'):\n",
    "        if isinstance(estimator, _VectorizerMixin):\n",
    "            # handling all vectorizers\n",
    "            return [f'vec_{f}' \\\n",
    "                for f in estimator.get_feature_names()]\n",
    "        else:\n",
    "            return estimator.get_feature_names(feature_in)\n",
    "    elif isinstance(estimator, SelectorMixin):\n",
    "        return np.array(feature_in)[estimator.get_support()]\n",
    "    else:\n",
    "        return feature_in\n",
    "\n",
    "\n",
    "def get_ct_feature_names(ct):\n",
    "    # handles all estimators, pipelines inside ColumnTransfomer\n",
    "    # doesn't work when remainder =='passthrough'\n",
    "    # which requires the input column names.\n",
    "    output_features = []\n",
    "\n",
    "    for name, estimator, features in ct.transformers_:\n",
    "        if name!='remainder':\n",
    "            if isinstance(estimator, Pipeline):\n",
    "                current_features = features\n",
    "                for step in estimator:\n",
    "                    current_features = get_feature_out(step, current_features)\n",
    "                features_out = current_features\n",
    "            else:\n",
    "                features_out = get_feature_out(estimator, features)\n",
    "            output_features.extend(features_out)\n",
    "        elif estimator=='passthrough':\n",
    "            output_features.extend(ct._feature_names_in[features])\n",
    "\n",
    "    return output_features\n",
    "\n"
   ],
   "metadata": {
    "collapsed": false,
    "pycharm": {
     "name": "#%%\n"
    }
   }
  },
  {
   "cell_type": "markdown",
   "source": [
    "Génère un dataset avec customer classé binaire avec GDP pour les TP2 et TP3"
   ],
   "metadata": {
    "collapsed": false
   }
  },
  {
   "cell_type": "code",
   "execution_count": 19,
   "outputs": [
    {
     "data": {
      "text/plain": "Pipeline(steps=[('merge',\n                 FunctionTransformer(func=<function merge_data at 0x0000029D839BCEE0>,\n                                     kw_args={'include_gdps': True})),\n                ('preprocessor',\n                 ColumnTransformer(remainder='passthrough',\n                                   transformers=[('label',\n                                                  Pipeline(steps=[('imputer',\n                                                                   SimpleImputer()),\n                                                                  ('power',\n                                                                   PowerTransformer(method='box-cox')),\n                                                                  ('labeler',\n                                                                   FunctionTransformer(func=<function label_encode...\n                                                  ['revenue']),\n                                                 ('num',\n                                                  Pipeline(steps=[('imputer',\n                                                                   SimpleImputer()),\n                                                                  ('clamp',\n                                                                   FunctionTransformer(func=<function clamp_transformation at 0x0000029D83BFA8B0>)),\n                                                                  ('std',\n                                                                   StandardScaler())]),\n                                                  ['age', 'pages',\n                                                   'first_item_prize',\n                                                   'News_click', 'ReBuy']),\n                                                 ('cat',\n                                                  Pipeline(steps=[('encoder',\n                                                                   OneHotEncoder(handle_unknown='ignore',\n                                                                                 sparse=False))]),\n                                                  ['gender', 'country'])]))])"
     },
     "execution_count": 19,
     "metadata": {},
     "output_type": "execute_result"
    },
    {
     "data": {
      "text/plain": "Pipeline(steps=[('imputer', SimpleImputer()),\n                ('power', PowerTransformer(method='box-cox')),\n                ('labeler',\n                 FunctionTransformer(func=<function label_encoder at 0x0000029D83BD7700>,\n                                     kw_args={'binary': True}))])"
     },
     "execution_count": 19,
     "metadata": {},
     "output_type": "execute_result"
    },
    {
     "name": "stdout",
     "output_type": "stream",
     "text": [
      "include_gdps=True\n",
      "merge avec gdps\n",
      "median=-0.006042344872821809\n"
     ]
    }
   ],
   "source": [
    "# Lancement du pipeline avec gdp pour le train set et test set avec gdp\n",
    "tp1_pipeline.set_params(merge__kw_args={'include_gdps':True})\n",
    "label_transformer.set_params(labeler__kw_args={'binary':True})\n",
    "customers_bin_avec_gdp = pd.DataFrame(tp1_pipeline.fit_transform(customers.copy()), columns=get_ct_feature_names(preprocessor))\n",
    "customers_bin_avec_gdp.to_csv(\"customers_bin_avec_gdp.csv\", index=False)"
   ],
   "metadata": {
    "collapsed": false,
    "pycharm": {
     "name": "#%%\n"
    }
   }
  },
  {
   "cell_type": "markdown",
   "source": [
    "Génère un dataset avec customer classé binaire avec GDP pour les TP2 et TP3"
   ],
   "metadata": {
    "collapsed": false,
    "pycharm": {
     "name": "#%% md\n"
    }
   }
  },
  {
   "cell_type": "code",
   "execution_count": 20,
   "outputs": [
    {
     "data": {
      "text/plain": "Pipeline(steps=[('merge',\n                 FunctionTransformer(func=<function merge_data at 0x0000029D839BCEE0>,\n                                     kw_args={'include_gdps': False})),\n                ('preprocessor',\n                 ColumnTransformer(remainder='passthrough',\n                                   transformers=[('label',\n                                                  Pipeline(steps=[('imputer',\n                                                                   SimpleImputer()),\n                                                                  ('power',\n                                                                   PowerTransformer(method='box-cox')),\n                                                                  ('labeler',\n                                                                   FunctionTransformer(func=<function label_encod...\n                                                  ['revenue']),\n                                                 ('num',\n                                                  Pipeline(steps=[('imputer',\n                                                                   SimpleImputer()),\n                                                                  ('clamp',\n                                                                   FunctionTransformer(func=<function clamp_transformation at 0x0000029D83BFA8B0>)),\n                                                                  ('std',\n                                                                   StandardScaler())]),\n                                                  ['age', 'pages',\n                                                   'first_item_prize',\n                                                   'News_click', 'ReBuy']),\n                                                 ('cat',\n                                                  Pipeline(steps=[('encoder',\n                                                                   OneHotEncoder(handle_unknown='ignore',\n                                                                                 sparse=False))]),\n                                                  ['gender', 'country'])]))])"
     },
     "execution_count": 20,
     "metadata": {},
     "output_type": "execute_result"
    },
    {
     "data": {
      "text/plain": "Pipeline(steps=[('imputer', SimpleImputer()),\n                ('power', PowerTransformer(method='box-cox')),\n                ('labeler',\n                 FunctionTransformer(func=<function label_encoder at 0x0000029D83BD7700>,\n                                     kw_args={'binary': True}))])"
     },
     "execution_count": 20,
     "metadata": {},
     "output_type": "execute_result"
    },
    {
     "name": "stdout",
     "output_type": "stream",
     "text": [
      "include_gdps=False\n",
      "merge sans gdps\n",
      "median=-0.006042344872821809\n"
     ]
    }
   ],
   "source": [
    "# Lancement du pipeline avec gdp pour le train set et test set avec gdp\n",
    "tp1_pipeline.set_params(merge__kw_args={'include_gdps':False})\n",
    "label_transformer.set_params(labeler__kw_args={'binary':True})\n",
    "customers_bin_sans_gdp = pd.DataFrame(tp1_pipeline.fit_transform(customers.copy()), columns=get_ct_feature_names(preprocessor))\n",
    "customers_bin_sans_gdp.to_csv(\"customers_bin_sans_gdp.csv\", index=False)"
   ],
   "metadata": {
    "collapsed": false,
    "pycharm": {
     "name": "#%%\n"
    }
   }
  },
  {
   "cell_type": "markdown",
   "source": [
    "Génère un dataset avec customer classé par catégories avec GDP pour les TP2 et TP3"
   ],
   "metadata": {
    "collapsed": false
   }
  },
  {
   "cell_type": "code",
   "execution_count": 21,
   "outputs": [
    {
     "data": {
      "text/plain": "Pipeline(steps=[('merge',\n                 FunctionTransformer(func=<function merge_data at 0x0000029D839BCEE0>,\n                                     kw_args={'include_gdps': True})),\n                ('preprocessor',\n                 ColumnTransformer(remainder='passthrough',\n                                   transformers=[('label',\n                                                  Pipeline(steps=[('imputer',\n                                                                   SimpleImputer()),\n                                                                  ('power',\n                                                                   PowerTransformer(method='box-cox')),\n                                                                  ('labeler',\n                                                                   FunctionTransformer(func=<function label_encode...\n                                                  ['revenue']),\n                                                 ('num',\n                                                  Pipeline(steps=[('imputer',\n                                                                   SimpleImputer()),\n                                                                  ('clamp',\n                                                                   FunctionTransformer(func=<function clamp_transformation at 0x0000029D83BFA8B0>)),\n                                                                  ('std',\n                                                                   StandardScaler())]),\n                                                  ['age', 'pages',\n                                                   'first_item_prize',\n                                                   'News_click', 'ReBuy']),\n                                                 ('cat',\n                                                  Pipeline(steps=[('encoder',\n                                                                   OneHotEncoder(handle_unknown='ignore',\n                                                                                 sparse=False))]),\n                                                  ['gender', 'country'])]))])"
     },
     "execution_count": 21,
     "metadata": {},
     "output_type": "execute_result"
    },
    {
     "data": {
      "text/plain": "Pipeline(steps=[('imputer', SimpleImputer()),\n                ('power', PowerTransformer(method='box-cox')),\n                ('labeler',\n                 FunctionTransformer(func=<function label_encoder at 0x0000029D83BD7700>,\n                                     kw_args={'binary': False}))])"
     },
     "execution_count": 21,
     "metadata": {},
     "output_type": "execute_result"
    },
    {
     "name": "stdout",
     "output_type": "stream",
     "text": [
      "include_gdps=True\n",
      "merge avec gdps\n",
      "4.490630090003834e-16 1.0\n"
     ]
    }
   ],
   "source": [
    "# Lancement du pipeline avec gdp pour le train set et test set avec gdp\n",
    "tp1_pipeline.set_params(merge__kw_args={'include_gdps':True})\n",
    "label_transformer.set_params(labeler__kw_args={'binary':False})\n",
    "customers_cat_avec_gdp = pd.DataFrame(tp1_pipeline.fit_transform(customers.copy()), columns=get_ct_feature_names(preprocessor))\n",
    "customers_cat_avec_gdp.to_csv(\"customers_cat_avec_gdp.csv\", index=False)"
   ],
   "metadata": {
    "collapsed": false,
    "pycharm": {
     "name": "#%%\n"
    }
   }
  },
  {
   "cell_type": "markdown",
   "source": [
    "Génère un dataset avec customer classé par catégories avec GDP pour les TP2 et TP3"
   ],
   "metadata": {
    "collapsed": false
   }
  },
  {
   "cell_type": "code",
   "execution_count": 22,
   "outputs": [
    {
     "data": {
      "text/plain": "Pipeline(steps=[('merge',\n                 FunctionTransformer(func=<function merge_data at 0x0000029D839BCEE0>,\n                                     kw_args={'include_gdps': False})),\n                ('preprocessor',\n                 ColumnTransformer(remainder='passthrough',\n                                   transformers=[('label',\n                                                  Pipeline(steps=[('imputer',\n                                                                   SimpleImputer()),\n                                                                  ('power',\n                                                                   PowerTransformer(method='box-cox')),\n                                                                  ('labeler',\n                                                                   FunctionTransformer(func=<function label_encod...\n                                                  ['revenue']),\n                                                 ('num',\n                                                  Pipeline(steps=[('imputer',\n                                                                   SimpleImputer()),\n                                                                  ('clamp',\n                                                                   FunctionTransformer(func=<function clamp_transformation at 0x0000029D83BFA8B0>)),\n                                                                  ('std',\n                                                                   StandardScaler())]),\n                                                  ['age', 'pages',\n                                                   'first_item_prize',\n                                                   'News_click', 'ReBuy']),\n                                                 ('cat',\n                                                  Pipeline(steps=[('encoder',\n                                                                   OneHotEncoder(handle_unknown='ignore',\n                                                                                 sparse=False))]),\n                                                  ['gender', 'country'])]))])"
     },
     "execution_count": 22,
     "metadata": {},
     "output_type": "execute_result"
    },
    {
     "data": {
      "text/plain": "Pipeline(steps=[('imputer', SimpleImputer()),\n                ('power', PowerTransformer(method='box-cox')),\n                ('labeler',\n                 FunctionTransformer(func=<function label_encoder at 0x0000029D83BD7700>,\n                                     kw_args={'binary': False}))])"
     },
     "execution_count": 22,
     "metadata": {},
     "output_type": "execute_result"
    },
    {
     "name": "stdout",
     "output_type": "stream",
     "text": [
      "include_gdps=False\n",
      "merge sans gdps\n",
      "4.490630090003834e-16 1.0\n"
     ]
    }
   ],
   "source": [
    "# Lancement du pipeline avec gdp pour le train set et test set avec gdp\n",
    "tp1_pipeline.set_params(merge__kw_args={'include_gdps':False})\n",
    "label_transformer.set_params(labeler__kw_args={'binary':False})\n",
    "customers_cat_sans_gdp = pd.DataFrame(tp1_pipeline.fit_transform(customers.copy()), columns=get_ct_feature_names(preprocessor))\n",
    "customers_cat_sans_gdp.to_csv(\"customers_cat_sans_gdp.csv\", index=False)\n",
    "\n"
   ],
   "metadata": {
    "collapsed": false,
    "pycharm": {
     "name": "#%%\n"
    }
   }
  },
  {
   "cell_type": "markdown",
   "source": [
    "# FIN TP1\n"
   ],
   "metadata": {
    "collapsed": false,
    "pycharm": {
     "name": "#%% md\n"
    }
   }
  }
 ],
 "metadata": {
  "kernelspec": {
   "display_name": "Python 3",
   "language": "python",
   "name": "python3"
  },
  "language_info": {
   "codemirror_mode": {
    "name": "ipython",
    "version": 2
   },
   "file_extension": ".py",
   "mimetype": "text/x-python",
   "name": "python",
   "nbconvert_exporter": "python",
   "pygments_lexer": "ipython2",
   "version": "2.7.6"
  }
 },
 "nbformat": 4,
 "nbformat_minor": 0
}