{
 "cells": [
  {
   "cell_type": "markdown",
   "metadata": {
    "collapsed": true,
    "pycharm": {
     "name": "#%% md\n"
    }
   },
   "source": [
    "##### 8IAR403 - Apprentissage machine pour la science des données\n",
    "##### -> Christian Hudon - HUDC04076909\n",
    "##### -> Alex Roberge - ROBA19129504\n",
    "##### Date de remise: 05 avril 2021"
   ]
  },
  {
   "cell_type": "markdown",
   "source": [
    "# Devoir #3, perceptron"
   ],
   "metadata": {
    "collapsed": false,
    "pycharm": {
     "name": "#%% md\n"
    }
   }
  },
  {
   "cell_type": "code",
   "execution_count": 9,
   "outputs": [],
   "source": [
    "\"\"\"Importation du fichier de fonction:\"\"\"\n",
    "from Functions import *\n",
    "\n",
    "# pour la génération de seed\n",
    "np.random.seed(52)"
   ],
   "metadata": {
    "collapsed": false,
    "pycharm": {
     "name": "#%%\n"
    }
   }
  },
  {
   "cell_type": "markdown",
   "source": [
    "# 2.1, entraînement d'un classeur binaire.\n",
    "Commençons par créer un ensemble de données aléatoires."
   ],
   "metadata": {
    "collapsed": false,
    "pycharm": {
     "name": "#%% md\n"
    }
   }
  },
  {
   "cell_type": "code",
   "execution_count": 10,
   "outputs": [],
   "source": [
    "x = np.array([[0,0], [0,1], [1,0], [1,1]])\n",
    "y = np.array([0,1,1,0])"
   ],
   "metadata": {
    "collapsed": false,
    "pycharm": {
     "name": "#%%\n"
    }
   }
  },
  {
   "cell_type": "markdown",
   "source": [
    "## 2.1.1 -> Utilisation d'aucune couche cachée (un perceptron)."
   ],
   "metadata": {
    "collapsed": false,
    "pycharm": {
     "name": "#%% md\n"
    }
   }
  },
  {
   "cell_type": "code",
   "execution_count": 11,
   "outputs": [
    {
     "name": "stderr",
     "output_type": "stream",
     "text": [
      "*c* argument looks like a single numeric RGB or RGBA sequence, which should be avoided as value-mapping will have precedence in case its length matches with *x* & *y*.  Please use the *color* keyword-argument or provide a 2-D array with a single row if you intend to specify the same RGB or RGBA value for all points.\n",
      "*c* argument looks like a single numeric RGB or RGBA sequence, which should be avoided as value-mapping will have precedence in case its length matches with *x* & *y*.  Please use the *color* keyword-argument or provide a 2-D array with a single row if you intend to specify the same RGB or RGBA value for all points.\n"
     ]
    },
    {
     "name": "stdout",
     "output_type": "stream",
     "text": [
      "Résultat:\t 0.25\n"
     ]
    },
    {
     "data": {
      "text/plain": "<Figure size 432x288 with 1 Axes>",
      "image/png": "[encoded data removed]"
     },
     "metadata": {
      "needs_background": "light"
     },
     "output_type": "display_data"
    }
   ],
   "source": [
    "clf = MLPClassifier(hidden_layer_sizes=(), activation='identity', solver='sgd', max_iter=3000, random_state=1)\n",
    "\n",
    "clf.fit(x,y)\n",
    "\n",
    "y_pred = clf.predict(x)\n",
    "acc = accuracy_score(y, y_pred)\n",
    "print(\"Résultat:\\t\", acc)\n",
    "del y_pred, acc\n",
    "\n",
    "plot_decision_regions(x, y, clf)\n",
    "plt.xlabel('x-axis')\n",
    "plt.ylabel('y-axis')\n",
    "plt.legend(loc='upper left')\n",
    "plt.tight_layout()\n",
    "plt.show()\n",
    "plt.close()\n",
    "\n",
    "del clf"
   ],
   "metadata": {
    "collapsed": false,
    "pycharm": {
     "name": "#%%\n"
    }
   }
  },
  {
   "cell_type": "markdown",
   "source": [
    "## 2.1.2 -> Deux couches cachées avec le paramètre d'activation identité (linéaire)."
   ],
   "metadata": {
    "collapsed": false,
    "pycharm": {
     "name": "#%% md\n"
    }
   }
  },
  {
   "cell_type": "code",
   "execution_count": 12,
   "outputs": [
    {
     "name": "stderr",
     "output_type": "stream",
     "text": [
      "*c* argument looks like a single numeric RGB or RGBA sequence, which should be avoided as value-mapping will have precedence in case its length matches with *x* & *y*.  Please use the *color* keyword-argument or provide a 2-D array with a single row if you intend to specify the same RGB or RGBA value for all points.\n",
      "*c* argument looks like a single numeric RGB or RGBA sequence, which should be avoided as value-mapping will have precedence in case its length matches with *x* & *y*.  Please use the *color* keyword-argument or provide a 2-D array with a single row if you intend to specify the same RGB or RGBA value for all points.\n",
      "*c* argument looks like a single numeric RGB or RGBA sequence, which should be avoided as value-mapping will have precedence in case its length matches with *x* & *y*.  Please use the *color* keyword-argument or provide a 2-D array with a single row if you intend to specify the same RGB or RGBA value for all points.\n",
      "*c* argument looks like a single numeric RGB or RGBA sequence, which should be avoided as value-mapping will have precedence in case its length matches with *x* & *y*.  Please use the *color* keyword-argument or provide a 2-D array with a single row if you intend to specify the same RGB or RGBA value for all points.\n"
     ]
    },
    {
     "name": "stdout",
     "output_type": "stream",
     "text": [
      "Résultat sgd:\t 0.5\n",
      "Résultat lbfgs:\t 0.75\n"
     ]
    },
    {
     "data": {
      "text/plain": "<Figure size 432x288 with 1 Axes>",
      "image/png": "[encoded data removed]"
     },
     "metadata": {
      "needs_background": "light"
     },
     "output_type": "display_data"
    },
    {
     "data": {
      "text/plain": "<Figure size 432x288 with 1 Axes>",
      "image/png": "[encoded data removed]"
     },
     "metadata": {
      "needs_background": "light"
     },
     "output_type": "display_data"
    }
   ],
   "source": [
    "#Le nombre de neurone est par essaie/erreur. On laisse le meilleur nombre dans le notebook.\n",
    "clf = MLPClassifier(hidden_layer_sizes=(100,50), activation='identity', solver='sgd', max_iter=3000, random_state=1)\n",
    "clf_lbfgs = MLPClassifier(hidden_layer_sizes=(100,50), activation='identity', solver='lbfgs', max_iter=3000, random_state=1)\n",
    "\n",
    "clf.fit(x,y)\n",
    "clf_lbfgs.fit(x,y)\n",
    "\n",
    "y_pred = clf.predict(x)\n",
    "acc = accuracy_score(y, y_pred)\n",
    "print(\"Résultat sgd:\\t\", acc)\n",
    "del y_pred, acc\n",
    "\n",
    "y_pred = clf_lbfgs.predict(x)\n",
    "acc = accuracy_score(y, y_pred)\n",
    "print(\"Résultat lbfgs:\\t\", acc)\n",
    "del y_pred, acc\n",
    "\n",
    "plot_decision_regions(x, y, clf)\n",
    "plt.xlabel('x-axis')\n",
    "plt.ylabel('y-axis')\n",
    "plt.legend(loc='upper left')\n",
    "plt.tight_layout()\n",
    "plt.show()\n",
    "plt.close()\n",
    "del clf\n",
    "\n",
    "plot_decision_regions(x, y, clf_lbfgs)\n",
    "plt.xlabel('x-axis')\n",
    "plt.ylabel('y-axis')\n",
    "plt.legend(loc='upper left')\n",
    "plt.tight_layout()\n",
    "plt.show()\n",
    "plt.close()\n",
    "del clf_lbfgs"
   ],
   "metadata": {
    "collapsed": false,
    "pycharm": {
     "name": "#%%\n"
    }
   }
  },
  {
   "cell_type": "markdown",
   "source": [
    "## 2.1.3 -> Deux couches cachées, mais activation NON-LINÉAIRE"
   ],
   "metadata": {
    "collapsed": false,
    "pycharm": {
     "name": "#%% md\n"
    }
   }
  },
  {
   "cell_type": "code",
   "execution_count": null,
   "outputs": [],
   "source": [
    "#Le nombre de neurone est par essaie/erreur. On laisse le meilleur nombre dans le notebook.\n",
    "clf = MLPClassifier(hidden_layer_sizes=(100,50), alpha=0.001, activation='tanh', solver='sgd', max_iter=3000, random_state=1)\n",
    "clf_lbfgs = MLPClassifier(hidden_layer_sizes=(100,50), activation='tanh', solver='lbfgs', max_iter=3000, random_state=1)\n",
    "clf_adam = MLPClassifier(hidden_layer_sizes=(100,50), activation='tanh', solver='adam', max_iter=3000, random_state=1)\n",
    "\n",
    "#bonus\n",
    "clf_test = MLPClassifier(hidden_layer_sizes=(100,50), activation='relu', solver='adam', max_iter=3000, random_state=1)\n",
    "\n",
    "clf.fit(x,y)\n",
    "clf_lbfgs.fit(x,y)\n",
    "clf_adam.fit(x,y)\n",
    "clf_test.fit(x,y)\n",
    "\n",
    "y_pred = clf.predict(x)\n",
    "acc = accuracy_score(y, y_pred)\n",
    "print(\"Résultat du solver sgd avec activation tanh:\\t\", acc)\n",
    "del y_pred, acc\n",
    "\n",
    "y_pred = clf_lbfgs.predict(x)\n",
    "acc = accuracy_score(y, y_pred)\n",
    "print(\"Résultat du solver lbfgs avec activation tanh:\\t\", acc)\n",
    "del y_pred, acc\n",
    "\n",
    "y_pred = clf_adam.predict(x)\n",
    "acc = accuracy_score(y, y_pred)\n",
    "print(\"Résultat du solver adam avec activation tanh:\\t\", acc)\n",
    "del y_pred, acc\n",
    "\n",
    "#Bonus\n",
    "y_pred = clf_test.predict(x)\n",
    "acc = accuracy_score(y, y_pred)\n",
    "print(\"Résultat du solver adam avec activation relu:\\t\", acc)\n",
    "del y_pred, acc\n",
    "\n",
    "plot_decision_regions(x, y, clf)\n",
    "plt.xlabel('x-axis')\n",
    "plt.ylabel('y-axis')\n",
    "plt.legend(loc='upper left')\n",
    "plt.title(\"solver sgd avec activation tanh\")\n",
    "plt.tight_layout()\n",
    "plt.show()\n",
    "plt.close()\n",
    "del clf\n",
    "\n",
    "plot_decision_regions(x, y, clf_lbfgs)\n",
    "plt.xlabel('x-axis')\n",
    "plt.ylabel('y-axis')\n",
    "plt.legend(loc='upper left')\n",
    "plt.title(\"solver lbfgs avec activation tanh\")\n",
    "plt.tight_layout()\n",
    "plt.show()\n",
    "plt.close()\n",
    "del clf_lbfgs\n",
    "\n",
    "plot_decision_regions(x, y, clf_adam)\n",
    "plt.xlabel('x-axis')\n",
    "plt.ylabel('y-axis')\n",
    "plt.legend(loc='upper left')\n",
    "plt.title(\"solver adam avec activation tanh\")\n",
    "plt.tight_layout()\n",
    "plt.show()\n",
    "plt.close()\n",
    "del clf_adam\n",
    "\n",
    "#Bonus\n",
    "plot_decision_regions(x, y, clf_test)\n",
    "plt.xlabel('x-axis')\n",
    "plt.ylabel('y-axis')\n",
    "plt.legend(loc='upper left')\n",
    "plt.title(\"Activation relu et avec un solver adam\")\n",
    "plt.tight_layout()\n",
    "plt.show()\n",
    "plt.close()\n",
    "del clf_test"
   ],
   "metadata": {
    "collapsed": false,
    "pycharm": {
     "name": "#%%\n",
     "is_executing": true
    }
   }
  },
  {
   "cell_type": "markdown",
   "source": [
    "## Interprétation des résultats de la partie 2.\n",
    "\n",
    "En premier lieu, il est possible de remarquer que la classification sans couche cachée (linéaire) éprouve beaucoup\n",
    "de difficulté à classifier le XOR. À l'aide de la visualisation, il est possible de voir qu'une seule ligne ne peut pas\n",
    "encadrer et classifier les points avec certitude. Les 'solvers' lbfgs et adam ont également été essayé, mais toujours\n",
    "sans succès.\n",
    "\n",
    "Ensuite, la fonction linéaire d'activation d'identité n'est pas plus capable de classifier un problème XOR, malgré\n",
    "plusieurs couches (3 couches ont été testées et ce n'est pas mieux que 2) et différents 'solvers'. Cela s'explique du\n",
    "fait que la méthode identité utilise la fonction f(x) = x. étant donné sa linéarité, il en revient au même qu'à la\n",
    "première étape, soit disant une fonction linéaire.\n",
    "\n",
    "Au final, plusieurs fonctions d'activations linéaires ont été testées. Il est intéressant de noter, que dans le premier\n",
    "cas de la section 2.1.3, un 'solver' sgd a été utilisé. Celui-ci n'a par contre pas réussi à classifier réellement le XOR\n",
    "lorsque combiné avec une activation 'tanh' comparé aux autres. Cependant, si l'on combine avec une activation 'relu'\n",
    "(non effectué plus haut), cela fonctionne bien. On voit donc qu'il peut exister plusieurs combinaisons possibles, d'où\n",
    "l'intérêt d'effectuer un grid search (nous verrons plus loin dans la section 3). Par ailleurs, les autres combinaisons de\n",
    "poids semblent bien s'effectuer, mais visuellement (voir bonus), on constate qu'un solveur 'adam' et une activation 'relu'\n",
    "semblent bien épurer le problème emmené. Vous pourrez vous amuser avec le 'random-state'. Le fait est que peut importe\n",
    "celui-ci, la dernière interprétation semble vraiment catégoriser les données en deux parts égales."
   ],
   "metadata": {
    "collapsed": false,
    "pycharm": {
     "name": "#%% md\n"
    }
   }
  },
  {
   "cell_type": "markdown",
   "source": [
    "# Partie 2.2, entraînement d'un classeur binaire pour la vente en ligne"
   ],
   "metadata": {
    "collapsed": false,
    "pycharm": {
     "name": "#%% md\n"
    }
   }
  },
  {
   "cell_type": "markdown",
   "source": [
    "### 2.2.1, 2.2.2, 2.2.3. Échantillonage aléatoire stratifié, validation croisée et mesures de précision."
   ],
   "metadata": {
    "collapsed": false,
    "pycharm": {
     "name": "#%% md\n"
    }
   }
  },
  {
   "cell_type": "code",
   "execution_count": null,
   "outputs": [],
   "source": [
    "\"\"\"Importations des datasets ici\"\"\"\n",
    "trainGdp, testGdp = train_test_split(pd.read_csv(\"customers_bin_sans_gdp.csv\"), test_size=0.2, random_state=42)\n",
    "trainNoGdp, testNoGdp = train_test_split(pd.read_csv(\"customers_bin_sans_gdp.csv\"), test_size=0.2, random_state=42)\n",
    "trainRaw, testRaw = train_test_split(pd.read_csv(\"customers_raw.csv\").copy(), test_size=0.2, random_state=42)\n",
    "\n",
    "#print(trainGdp.info(), testGdp.info())\n",
    "#print(trainNoGdp.info(), testNoGdp.info())\n",
    "#print(trainRaw.info(), testRaw.info())"
   ],
   "metadata": {
    "collapsed": false,
    "pycharm": {
     "name": "#%%\n",
     "is_executing": true
    }
   }
  },
  {
   "cell_type": "code",
   "execution_count": null,
   "outputs": [],
   "source": [
    "mlp = MLPClassifier()"
   ],
   "metadata": {
    "collapsed": false,
    "pycharm": {
     "name": "#%%\n",
     "is_executing": true
    }
   }
  },
  {
   "cell_type": "code",
   "execution_count": null,
   "outputs": [],
   "source": [
    "accuracy = ResampleAndScore(mlp, trainGdp, 4000, 3)\n",
    "\"\"\"\n",
    "#for n_samples in [2000, 4000, 6000, 8000]:\n",
    "for n_samples in [4000]:\n",
    "    for cv in [3, 10]:\n",
    "        accuracy = ResampleAndScore(mlp, trainGdp, n_samples, cv)\n",
    "        accuracy2 = ResampleAndScore(mlp, trainNoGdp, n_samples, cv)\n",
    "        accuracy3 = ResampleAndScore(mlp, trainRaw, n_samples, cv)\n",
    "\"\"\""
   ],
   "metadata": {
    "collapsed": false,
    "pycharm": {
     "name": "#%%\n",
     "is_executing": true
    }
   }
  },
  {
   "cell_type": "markdown",
   "source": [
    "## Section 2.2.4, optimations des paramètres"
   ],
   "metadata": {
    "collapsed": false,
    "pycharm": {
     "name": "#%% md\n"
    }
   }
  },
  {
   "cell_type": "code",
   "execution_count": null,
   "outputs": [],
   "source": [
    "#Définition des paramètres\n",
    "parameter_space = {\n",
    "    'hidden_layer_sizes': [(100,50), (100, 100), (50,50), (50,100,50)],\n",
    "    'activation': ['tanh', 'relu', 'logistic', 'identity'],\n",
    "    'solver': ['lbfgs','sgd', 'adam'],\n",
    "    'max_iter':[100, 200, 500, 1000, 2500],\n",
    "    'learning_rate': ['constant','invscaling','adaptive'],\n",
    "}"
   ],
   "metadata": {
    "collapsed": false,
    "pycharm": {
     "name": "#%%\n",
     "is_executing": true
    }
   }
  },
  {
   "cell_type": "code",
   "execution_count": null,
   "outputs": [],
   "source": [
    "#split du dataset\n",
    "\n",
    "\"\"\"\n",
    "clf = GridSearchCV(mlp, parameter_space, n_jobs=-1, cv=3)\n",
    "clf.fit(DEAP_x_train, DEAP_y_train)\n",
    "\n",
    "\n",
    "\"\"\""
   ],
   "metadata": {
    "collapsed": false,
    "pycharm": {
     "name": "#%%\n",
     "is_executing": true
    }
   }
  }
 ],
 "metadata": {
  "kernelspec": {
   "display_name": "Python 3",
   "language": "python",
   "name": "python3"
  },
  "language_info": {
   "codemirror_mode": {
    "name": "ipython",
    "version": 2
   },
   "file_extension": ".py",
   "mimetype": "text/x-python",
   "name": "python",
   "nbconvert_exporter": "python",
   "pygments_lexer": "ipython2",
   "version": "2.7.6"
  }
 },
 "nbformat": 4,
 "nbformat_minor": 0
}